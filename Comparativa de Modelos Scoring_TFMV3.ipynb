{
 "cells": [
  {
   "cell_type": "code",
   "execution_count": 1,
   "id": "db978a85",
   "metadata": {},
   "outputs": [],
   "source": [
    "#Importamos todas las librerías necesarias\n",
    "\n",
    "import pandas as pd\n",
    "import numpy as np\n",
    "\n",
    "import seaborn as sns\n",
    "import matplotlib.pyplot as plt\n",
    "\n",
    "from sklearn.preprocessing import PowerTransformer, StandardScaler\n",
    "from sklearn.cluster import KMeans\n",
    "\n",
    "from scipy.stats import boxcox, probplot, norm, shapiro\n",
    "\n",
    "import os\n",
    "import warnings\n",
    "warnings.filterwarnings('ignore')"
   ]
  },
  {
   "cell_type": "code",
   "execution_count": 2,
   "id": "cee5f0eb",
   "metadata": {},
   "outputs": [],
   "source": [
    "#Defininmos las función que luego nos servirá para comprobar la normalidad de nuestras variables numéricas.\n",
    "\n",
    "def comprueba_normalidad(df, return_type='axes', title='Comprobación de normalidad'):\n",
    "    '''\n",
    "    Esta función genera automáticamente un dataframe el shapiro test de las variables numéricas\n",
    "     así como las gráficas referentes a la QQ-plot de cada variable\n",
    "    '''\n",
    "    fig_tot = (len(df.columns))\n",
    "    fig_por_fila = 3\n",
    "    tamanio_fig  = 4\n",
    "    num_filas = int( np.ceil(fig_tot/fig_por_fila) )    \n",
    "    plt.figure( figsize=( fig_por_fila*tamanio_fig+5, num_filas*tamanio_fig+2 ) )\n",
    "    c = 0 \n",
    "    shapiro_test = {}\n",
    "    lambdas = {}\n",
    "    for i, col in enumerate(df.columns):\n",
    "        ax = plt.subplot(num_filas, fig_por_fila, i+1)\n",
    "        probplot(x = df[df.columns[i]], dist=norm, plot=ax)\n",
    "        plt.title(df.columns[i])\n",
    "        shapiro_test[df.columns[i]] = shapiro(df[df.columns[i]])\n",
    "    plt.suptitle(title)\n",
    "    plt.show()\n",
    "    shapiro_test = pd.DataFrame(shapiro_test, index=['Test Statistic', 'p-value']).transpose()\n",
    "    return shapiro_test\n",
    "\n"
   ]
  },
  {
   "cell_type": "code",
   "execution_count": 3,
   "id": "5bb82030",
   "metadata": {},
   "outputs": [
    {
     "data": {
      "text/html": [
       "<div>\n",
       "<style scoped>\n",
       "    .dataframe tbody tr th:only-of-type {\n",
       "        vertical-align: middle;\n",
       "    }\n",
       "\n",
       "    .dataframe tbody tr th {\n",
       "        vertical-align: top;\n",
       "    }\n",
       "\n",
       "    .dataframe thead th {\n",
       "        text-align: right;\n",
       "    }\n",
       "</style>\n",
       "<table border=\"1\" class=\"dataframe\">\n",
       "  <thead>\n",
       "    <tr style=\"text-align: right;\">\n",
       "      <th></th>\n",
       "      <th>id</th>\n",
       "      <th>user_id</th>\n",
       "      <th>sequence_number</th>\n",
       "      <th>event_type</th>\n",
       "      <th>first_name</th>\n",
       "      <th>last_name</th>\n",
       "      <th>email</th>\n",
       "      <th>age</th>\n",
       "      <th>gender</th>\n",
       "      <th>state</th>\n",
       "      <th>street_address</th>\n",
       "      <th>postal_code</th>\n",
       "      <th>city</th>\n",
       "      <th>country</th>\n",
       "      <th>latitude</th>\n",
       "      <th>longitude</th>\n",
       "      <th>traffic_source</th>\n",
       "      <th>created_at</th>\n",
       "    </tr>\n",
       "  </thead>\n",
       "  <tbody>\n",
       "    <tr>\n",
       "      <th>0</th>\n",
       "      <td>458138</td>\n",
       "      <td>35092.0</td>\n",
       "      <td>3</td>\n",
       "      <td>cart</td>\n",
       "      <td>Linda</td>\n",
       "      <td>Watson</td>\n",
       "      <td>lindawatson@example.net</td>\n",
       "      <td>50</td>\n",
       "      <td>F</td>\n",
       "      <td>Hokkaido</td>\n",
       "      <td>21465 Rhonda Field Suite 992</td>\n",
       "      <td>003-0030</td>\n",
       "      <td>Sapporo</td>\n",
       "      <td>Japan</td>\n",
       "      <td>4.303.853.579</td>\n",
       "      <td>1.414.478.828</td>\n",
       "      <td>Display</td>\n",
       "      <td>2022-05-22 02:33:00+00:00</td>\n",
       "    </tr>\n",
       "    <tr>\n",
       "      <th>1</th>\n",
       "      <td>444176</td>\n",
       "      <td>34028.0</td>\n",
       "      <td>6</td>\n",
       "      <td>cart</td>\n",
       "      <td>Kaitlyn</td>\n",
       "      <td>Neal</td>\n",
       "      <td>kaitlynneal@example.org</td>\n",
       "      <td>70</td>\n",
       "      <td>F</td>\n",
       "      <td>Hokkaido</td>\n",
       "      <td>04357 Darren Camp Suite 558</td>\n",
       "      <td>007-0890</td>\n",
       "      <td>Sapporo</td>\n",
       "      <td>Japan</td>\n",
       "      <td>4.313.656.452</td>\n",
       "      <td>1.414.374.334</td>\n",
       "      <td>Email</td>\n",
       "      <td>2020-02-20 01:20:00+00:00</td>\n",
       "    </tr>\n",
       "    <tr>\n",
       "      <th>2</th>\n",
       "      <td>170896</td>\n",
       "      <td>13199.0</td>\n",
       "      <td>4</td>\n",
       "      <td>cart</td>\n",
       "      <td>Sarah</td>\n",
       "      <td>Shaw</td>\n",
       "      <td>sarahshaw@example.org</td>\n",
       "      <td>16</td>\n",
       "      <td>F</td>\n",
       "      <td>SÃ£o Paulo</td>\n",
       "      <td>876 Stewart Port Apt. 445</td>\n",
       "      <td>02220-000</td>\n",
       "      <td>SÃ£o Paulo</td>\n",
       "      <td>Brasil</td>\n",
       "      <td>-2.348.476.114</td>\n",
       "      <td>-4.657.438.974</td>\n",
       "      <td>Search</td>\n",
       "      <td>2021-08-27 13:52:00+00:00</td>\n",
       "    </tr>\n",
       "    <tr>\n",
       "      <th>3</th>\n",
       "      <td>1147243</td>\n",
       "      <td>87818.0</td>\n",
       "      <td>3</td>\n",
       "      <td>cart</td>\n",
       "      <td>Brooke</td>\n",
       "      <td>Pittman</td>\n",
       "      <td>brookepittman@example.org</td>\n",
       "      <td>37</td>\n",
       "      <td>F</td>\n",
       "      <td>SÃ£o Paulo</td>\n",
       "      <td>981 Brandi Via</td>\n",
       "      <td>02675-031</td>\n",
       "      <td>SÃ£o Paulo</td>\n",
       "      <td>Brasil</td>\n",
       "      <td>-2.347.256.155</td>\n",
       "      <td>-4.674.656.621</td>\n",
       "      <td>Facebook</td>\n",
       "      <td>2020-05-26 07:42:00+00:00</td>\n",
       "    </tr>\n",
       "    <tr>\n",
       "      <th>4</th>\n",
       "      <td>604658</td>\n",
       "      <td>46234.0</td>\n",
       "      <td>3</td>\n",
       "      <td>cart</td>\n",
       "      <td>Jacqueline</td>\n",
       "      <td>Velasquez</td>\n",
       "      <td>jacquelinevelasquez@example.com</td>\n",
       "      <td>12</td>\n",
       "      <td>F</td>\n",
       "      <td>SÃ£o Paulo</td>\n",
       "      <td>5135 Anderson Flat Suite 364</td>\n",
       "      <td>02675-031</td>\n",
       "      <td>SÃ£o Paulo</td>\n",
       "      <td>Brasil</td>\n",
       "      <td>-2.347.256.155</td>\n",
       "      <td>-4.674.656.621</td>\n",
       "      <td>Search</td>\n",
       "      <td>2023-05-22 15:22:00+00:00</td>\n",
       "    </tr>\n",
       "  </tbody>\n",
       "</table>\n",
       "</div>"
      ],
      "text/plain": [
       "        id  user_id  sequence_number event_type  first_name  last_name  \\\n",
       "0   458138  35092.0                3       cart       Linda     Watson   \n",
       "1   444176  34028.0                6       cart     Kaitlyn       Neal   \n",
       "2   170896  13199.0                4       cart       Sarah       Shaw   \n",
       "3  1147243  87818.0                3       cart      Brooke    Pittman   \n",
       "4   604658  46234.0                3       cart  Jacqueline  Velasquez   \n",
       "\n",
       "                             email  age gender       state  \\\n",
       "0          lindawatson@example.net   50      F    Hokkaido   \n",
       "1          kaitlynneal@example.org   70      F    Hokkaido   \n",
       "2            sarahshaw@example.org   16      F  SÃ£o Paulo   \n",
       "3        brookepittman@example.org   37      F  SÃ£o Paulo   \n",
       "4  jacquelinevelasquez@example.com   12      F  SÃ£o Paulo   \n",
       "\n",
       "                 street_address postal_code        city country  \\\n",
       "0  21465 Rhonda Field Suite 992    003-0030     Sapporo   Japan   \n",
       "1   04357 Darren Camp Suite 558    007-0890     Sapporo   Japan   \n",
       "2     876 Stewart Port Apt. 445   02220-000  SÃ£o Paulo  Brasil   \n",
       "3                981 Brandi Via   02675-031  SÃ£o Paulo  Brasil   \n",
       "4  5135 Anderson Flat Suite 364   02675-031  SÃ£o Paulo  Brasil   \n",
       "\n",
       "         latitude       longitude traffic_source                 created_at  \n",
       "0   4.303.853.579   1.414.478.828        Display  2022-05-22 02:33:00+00:00  \n",
       "1   4.313.656.452   1.414.374.334          Email  2020-02-20 01:20:00+00:00  \n",
       "2  -2.348.476.114  -4.657.438.974         Search  2021-08-27 13:52:00+00:00  \n",
       "3  -2.347.256.155  -4.674.656.621       Facebook  2020-05-26 07:42:00+00:00  \n",
       "4  -2.347.256.155  -4.674.656.621         Search  2023-05-22 15:22:00+00:00  "
      ]
     },
     "metadata": {},
     "output_type": "display_data"
    }
   ],
   "source": [
    "#Importamos nuestro fichero clientes completo ya tratado\n",
    "clientes_df = pd.read_csv(\"clientes_completo.csv\", header=0, sep=\";\")\n",
    "display(clientes_df.head(5))\n"
   ]
  },
  {
   "cell_type": "code",
   "execution_count": 4,
   "id": "43051db0",
   "metadata": {},
   "outputs": [
    {
     "name": "stdout",
     "output_type": "stream",
     "text": [
      "<class 'pandas.core.frame.DataFrame'>\n",
      "RangeIndex: 563033 entries, 0 to 563032\n",
      "Data columns (total 18 columns):\n",
      " #   Column           Non-Null Count   Dtype  \n",
      "---  ------           --------------   -----  \n",
      " 0   id               563033 non-null  int64  \n",
      " 1   user_id          563033 non-null  float64\n",
      " 2   sequence_number  563033 non-null  int64  \n",
      " 3   event_type       563025 non-null  object \n",
      " 4   first_name       563033 non-null  object \n",
      " 5   last_name        563033 non-null  object \n",
      " 6   email            563033 non-null  object \n",
      " 7   age              563033 non-null  int64  \n",
      " 8   gender           563033 non-null  object \n",
      " 9   state            563033 non-null  object \n",
      " 10  street_address   563033 non-null  object \n",
      " 11  postal_code      563033 non-null  object \n",
      " 12  city             557760 non-null  object \n",
      " 13  country          563033 non-null  object \n",
      " 14  latitude         563033 non-null  object \n",
      " 15  longitude        563033 non-null  object \n",
      " 16  traffic_source   563033 non-null  object \n",
      " 17  created_at       563033 non-null  object \n",
      "dtypes: float64(1), int64(3), object(14)\n",
      "memory usage: 77.3+ MB\n"
     ]
    }
   ],
   "source": [
    "#Revisamos tipos de datos\n",
    "clientes_df.info()"
   ]
  },
  {
   "cell_type": "code",
   "execution_count": 5,
   "id": "92f98807",
   "metadata": {},
   "outputs": [
    {
     "data": {
      "text/plain": [
       "Index(['id', 'user_id', 'sequence_number', 'event_type', 'first_name',\n",
       "       'last_name', 'email', 'age', 'gender', 'state', 'street_address',\n",
       "       'postal_code', 'city', 'country', 'latitude', 'longitude',\n",
       "       'traffic_source', 'created_at'],\n",
       "      dtype='object')"
      ]
     },
     "execution_count": 5,
     "metadata": {},
     "output_type": "execute_result"
    }
   ],
   "source": [
    "clientes_df.columns"
   ]
  },
  {
   "cell_type": "code",
   "execution_count": 6,
   "id": "439e45bc",
   "metadata": {},
   "outputs": [
    {
     "data": {
      "text/plain": [
       "Shanghai             14227\n",
       "Beijing              12877\n",
       "Seoul                 8367\n",
       "Shenzhen              7731\n",
       "Dongguan              5450\n",
       "                     ...  \n",
       "Selby                    1\n",
       "Valley of Lagoons        1\n",
       "Forbach                  1\n",
       "Meckenheim               1\n",
       "BaugÃ© en Anjou          1\n",
       "Name: city, Length: 7549, dtype: int64"
      ]
     },
     "execution_count": 6,
     "metadata": {},
     "output_type": "execute_result"
    }
   ],
   "source": [
    "clientes_df[\"city\"].value_counts()\n"
   ]
  },
  {
   "cell_type": "code",
   "execution_count": 7,
   "id": "3a5adc7f",
   "metadata": {},
   "outputs": [
    {
     "data": {
      "text/plain": [
       "China             195143\n",
       "United States     124583\n",
       "Brasil             82216\n",
       "South Korea        29479\n",
       "France             26309\n",
       "United Kingdom     25549\n",
       "Germany            23957\n",
       "Spain              22708\n",
       "Japan              13495\n",
       "Australia          11699\n",
       "Belgium             6346\n",
       "Poland              1481\n",
       "Colombia              49\n",
       "EspaÃ±a               11\n",
       "Austria                5\n",
       "Deutschland            3\n",
       "Name: country, dtype: int64"
      ]
     },
     "execution_count": 7,
     "metadata": {},
     "output_type": "execute_result"
    }
   ],
   "source": [
    "clientes_df[\"country\"].value_counts()"
   ]
  },
  {
   "cell_type": "code",
   "execution_count": 8,
   "id": "becf9d77",
   "metadata": {},
   "outputs": [],
   "source": [
    "#Cambiamos el valor \"EspaÃ±a\" por\"Spain\"\n",
    "clientes_df[\"country\"]=clientes_df[\"country\"].replace(\"EspaÃ±a\",\"Spain\")"
   ]
  },
  {
   "cell_type": "code",
   "execution_count": 9,
   "id": "e443e3ed",
   "metadata": {},
   "outputs": [
    {
     "data": {
      "text/plain": [
       "China             195143\n",
       "United States     124583\n",
       "Brasil             82216\n",
       "South Korea        29479\n",
       "France             26309\n",
       "United Kingdom     25549\n",
       "Germany            23957\n",
       "Spain              22719\n",
       "Japan              13495\n",
       "Australia          11699\n",
       "Belgium             6346\n",
       "Poland              1481\n",
       "Colombia              49\n",
       "Austria                5\n",
       "Deutschland            3\n",
       "Name: country, dtype: int64"
      ]
     },
     "execution_count": 9,
     "metadata": {},
     "output_type": "execute_result"
    }
   ],
   "source": [
    "clientes_df[\"country\"].value_counts()"
   ]
  },
  {
   "cell_type": "code",
   "execution_count": 10,
   "id": "2a43341b",
   "metadata": {},
   "outputs": [
    {
     "data": {
      "text/plain": [
       "Search      394408\n",
       "Organic      85101\n",
       "Facebook     32301\n",
       "Email        28467\n",
       "Display      22756\n",
       "Name: traffic_source, dtype: int64"
      ]
     },
     "execution_count": 10,
     "metadata": {},
     "output_type": "execute_result"
    }
   ],
   "source": [
    "clientes_df[\"traffic_source\"].value_counts()"
   ]
  },
  {
   "cell_type": "code",
   "execution_count": 11,
   "id": "96d59741",
   "metadata": {},
   "outputs": [
    {
     "data": {
      "text/plain": [
       "cart          150377\n",
       "product       148651\n",
       "department    148541\n",
       "purchase       77901\n",
       "home           37555\n",
       "Name: event_type, dtype: int64"
      ]
     },
     "execution_count": 11,
     "metadata": {},
     "output_type": "execute_result"
    }
   ],
   "source": [
    "clientes_df[\"event_type\"].value_counts()"
   ]
  },
  {
   "cell_type": "code",
   "execution_count": 12,
   "id": "86eeacac",
   "metadata": {},
   "outputs": [
    {
     "data": {
      "text/plain": [
       "F    281973\n",
       "M    281060\n",
       "Name: gender, dtype: int64"
      ]
     },
     "execution_count": 12,
     "metadata": {},
     "output_type": "execute_result"
    }
   ],
   "source": [
    "clientes_df[\"gender\"].value_counts()"
   ]
  },
  {
   "cell_type": "code",
   "execution_count": 13,
   "id": "5ea642f3",
   "metadata": {},
   "outputs": [
    {
     "data": {
      "text/plain": [
       "id                 0.000000\n",
       "user_id            0.000000\n",
       "sequence_number    0.000000\n",
       "event_type         0.001421\n",
       "first_name         0.000000\n",
       "last_name          0.000000\n",
       "email              0.000000\n",
       "age                0.000000\n",
       "gender             0.000000\n",
       "state              0.000000\n",
       "street_address     0.000000\n",
       "postal_code        0.000000\n",
       "city               0.936535\n",
       "country            0.000000\n",
       "latitude           0.000000\n",
       "longitude          0.000000\n",
       "traffic_source     0.000000\n",
       "created_at         0.000000\n",
       "dtype: float64"
      ]
     },
     "execution_count": 13,
     "metadata": {},
     "output_type": "execute_result"
    }
   ],
   "source": [
    "clientes_df.isnull().sum() / len(clientes_df) * 100"
   ]
  },
  {
   "cell_type": "code",
   "execution_count": 14,
   "id": "3040c704",
   "metadata": {},
   "outputs": [],
   "source": [
    "#llamamos Desconocido a la city sin valor en la tabla\n",
    "clientes_df[\"city\"].fillna(\"Desconocido\",inplace=True)"
   ]
  },
  {
   "cell_type": "code",
   "execution_count": 15,
   "id": "71ec8fd5",
   "metadata": {},
   "outputs": [
    {
     "data": {
      "text/plain": [
       "id                 0.000000\n",
       "user_id            0.000000\n",
       "sequence_number    0.000000\n",
       "event_type         0.001421\n",
       "first_name         0.000000\n",
       "last_name          0.000000\n",
       "email              0.000000\n",
       "age                0.000000\n",
       "gender             0.000000\n",
       "state              0.000000\n",
       "street_address     0.000000\n",
       "postal_code        0.000000\n",
       "city               0.000000\n",
       "country            0.000000\n",
       "latitude           0.000000\n",
       "longitude          0.000000\n",
       "traffic_source     0.000000\n",
       "created_at         0.000000\n",
       "dtype: float64"
      ]
     },
     "execution_count": 15,
     "metadata": {},
     "output_type": "execute_result"
    }
   ],
   "source": [
    "clientes_df.isnull().sum() / len(clientes_df) * 100"
   ]
  },
  {
   "cell_type": "code",
   "execution_count": 16,
   "id": "f064e4d8",
   "metadata": {},
   "outputs": [],
   "source": [
    "#extraemos de la tabla aquellas variables que no nos interesan en este momento\n",
    "clientes_df.drop([\"id\",\"first_name\",\"last_name\",\"email\",\"state\",\"latitude\",\"street_address\",\"longitude\",\"postal_code\",\"city\",\"created_at\"], axis=1, inplace=True)"
   ]
  },
  {
   "cell_type": "code",
   "execution_count": 17,
   "id": "da85f336",
   "metadata": {},
   "outputs": [
    {
     "data": {
      "text/html": [
       "<div>\n",
       "<style scoped>\n",
       "    .dataframe tbody tr th:only-of-type {\n",
       "        vertical-align: middle;\n",
       "    }\n",
       "\n",
       "    .dataframe tbody tr th {\n",
       "        vertical-align: top;\n",
       "    }\n",
       "\n",
       "    .dataframe thead th {\n",
       "        text-align: right;\n",
       "    }\n",
       "</style>\n",
       "<table border=\"1\" class=\"dataframe\">\n",
       "  <thead>\n",
       "    <tr style=\"text-align: right;\">\n",
       "      <th></th>\n",
       "      <th>user_id</th>\n",
       "      <th>sequence_number</th>\n",
       "      <th>event_type</th>\n",
       "      <th>age</th>\n",
       "      <th>gender</th>\n",
       "      <th>country</th>\n",
       "      <th>traffic_source</th>\n",
       "    </tr>\n",
       "  </thead>\n",
       "  <tbody>\n",
       "    <tr>\n",
       "      <th>0</th>\n",
       "      <td>35092.0</td>\n",
       "      <td>3</td>\n",
       "      <td>cart</td>\n",
       "      <td>50</td>\n",
       "      <td>F</td>\n",
       "      <td>Japan</td>\n",
       "      <td>Display</td>\n",
       "    </tr>\n",
       "  </tbody>\n",
       "</table>\n",
       "</div>"
      ],
      "text/plain": [
       "   user_id  sequence_number event_type  age gender country traffic_source\n",
       "0  35092.0                3       cart   50      F   Japan        Display"
      ]
     },
     "metadata": {},
     "output_type": "display_data"
    }
   ],
   "source": [
    "#Comprobamos con las que nos hemos quedado\n",
    "display(clientes_df.head(1))"
   ]
  },
  {
   "cell_type": "code",
   "execution_count": 20,
   "id": "8b41673f",
   "metadata": {},
   "outputs": [],
   "source": [
    "clientes_df[\"buyer\"]=np.where(clientes_df[\"event_type\"].str.contains(\"purchase\"),1,0)"
   ]
  },
  {
   "cell_type": "code",
   "execution_count": 21,
   "id": "251d345c",
   "metadata": {},
   "outputs": [
    {
     "data": {
      "image/png": "[encoded data removed]",
      "text/plain": [
       "<Figure size 1000x600 with 1 Axes>"
      ]
     },
     "metadata": {},
     "output_type": "display_data"
    }
   ],
   "source": [
    "pd.crosstab(clientes_df.buyer, clientes_df.gender).plot(kind=\"bar\",figsize=(10,6))\n",
    "plt.show()"
   ]
  },
  {
   "cell_type": "code",
   "execution_count": 22,
   "id": "4a8d190f",
   "metadata": {},
   "outputs": [
    {
     "data": {
      "text/html": [
       "<div>\n",
       "<style scoped>\n",
       "    .dataframe tbody tr th:only-of-type {\n",
       "        vertical-align: middle;\n",
       "    }\n",
       "\n",
       "    .dataframe tbody tr th {\n",
       "        vertical-align: top;\n",
       "    }\n",
       "\n",
       "    .dataframe thead th {\n",
       "        text-align: right;\n",
       "    }\n",
       "</style>\n",
       "<table border=\"1\" class=\"dataframe\">\n",
       "  <thead>\n",
       "    <tr style=\"text-align: right;\">\n",
       "      <th>gender</th>\n",
       "      <th>F</th>\n",
       "      <th>M</th>\n",
       "    </tr>\n",
       "    <tr>\n",
       "      <th>buyer</th>\n",
       "      <th></th>\n",
       "      <th></th>\n",
       "    </tr>\n",
       "  </thead>\n",
       "  <tbody>\n",
       "    <tr>\n",
       "      <th>0</th>\n",
       "      <td>0.431138</td>\n",
       "      <td>0.430488</td>\n",
       "    </tr>\n",
       "    <tr>\n",
       "      <th>1</th>\n",
       "      <td>0.069673</td>\n",
       "      <td>0.068701</td>\n",
       "    </tr>\n",
       "  </tbody>\n",
       "</table>\n",
       "</div>"
      ],
      "text/plain": [
       "gender         F         M\n",
       "buyer                     \n",
       "0       0.431138  0.430488\n",
       "1       0.069673  0.068701"
      ]
     },
     "execution_count": 22,
     "metadata": {},
     "output_type": "execute_result"
    }
   ],
   "source": [
    "pd.crosstab(clientes_df.buyer, clientes_df.gender, normalize=True)\n"
   ]
  },
  {
   "cell_type": "code",
   "execution_count": 23,
   "id": "9dd1921a",
   "metadata": {},
   "outputs": [
    {
     "data": {
      "image/png": "[encoded data removed]",
      "text/plain": [
       "<Figure size 1000x600 with 1 Axes>"
      ]
     },
     "metadata": {},
     "output_type": "display_data"
    }
   ],
   "source": [
    "pd.crosstab(clientes_df.buyer, clientes_df.country).plot(kind=\"bar\",figsize=(10,6))\n",
    "plt.show()"
   ]
  },
  {
   "cell_type": "code",
   "execution_count": 24,
   "id": "aaee65b4",
   "metadata": {},
   "outputs": [
    {
     "data": {
      "text/html": [
       "<div>\n",
       "<style scoped>\n",
       "    .dataframe tbody tr th:only-of-type {\n",
       "        vertical-align: middle;\n",
       "    }\n",
       "\n",
       "    .dataframe tbody tr th {\n",
       "        vertical-align: top;\n",
       "    }\n",
       "\n",
       "    .dataframe thead th {\n",
       "        text-align: right;\n",
       "    }\n",
       "</style>\n",
       "<table border=\"1\" class=\"dataframe\">\n",
       "  <thead>\n",
       "    <tr style=\"text-align: right;\">\n",
       "      <th>country</th>\n",
       "      <th>Australia</th>\n",
       "      <th>Austria</th>\n",
       "      <th>Belgium</th>\n",
       "      <th>Brasil</th>\n",
       "      <th>China</th>\n",
       "      <th>Colombia</th>\n",
       "      <th>Deutschland</th>\n",
       "      <th>France</th>\n",
       "      <th>Germany</th>\n",
       "      <th>Japan</th>\n",
       "      <th>Poland</th>\n",
       "      <th>South Korea</th>\n",
       "      <th>Spain</th>\n",
       "      <th>United Kingdom</th>\n",
       "      <th>United States</th>\n",
       "    </tr>\n",
       "    <tr>\n",
       "      <th>buyer</th>\n",
       "      <th></th>\n",
       "      <th></th>\n",
       "      <th></th>\n",
       "      <th></th>\n",
       "      <th></th>\n",
       "      <th></th>\n",
       "      <th></th>\n",
       "      <th></th>\n",
       "      <th></th>\n",
       "      <th></th>\n",
       "      <th></th>\n",
       "      <th></th>\n",
       "      <th></th>\n",
       "      <th></th>\n",
       "      <th></th>\n",
       "    </tr>\n",
       "  </thead>\n",
       "  <tbody>\n",
       "    <tr>\n",
       "      <th>0</th>\n",
       "      <td>0.017825</td>\n",
       "      <td>0.000007</td>\n",
       "      <td>0.009733</td>\n",
       "      <td>0.125781</td>\n",
       "      <td>0.298927</td>\n",
       "      <td>0.000076</td>\n",
       "      <td>0.000004</td>\n",
       "      <td>0.040110</td>\n",
       "      <td>0.03673</td>\n",
       "      <td>0.020786</td>\n",
       "      <td>0.002243</td>\n",
       "      <td>0.045004</td>\n",
       "      <td>0.034842</td>\n",
       "      <td>0.039186</td>\n",
       "      <td>0.190373</td>\n",
       "    </tr>\n",
       "    <tr>\n",
       "      <th>1</th>\n",
       "      <td>0.002954</td>\n",
       "      <td>0.000002</td>\n",
       "      <td>0.001538</td>\n",
       "      <td>0.020242</td>\n",
       "      <td>0.047665</td>\n",
       "      <td>0.000011</td>\n",
       "      <td>0.000002</td>\n",
       "      <td>0.006618</td>\n",
       "      <td>0.00582</td>\n",
       "      <td>0.003183</td>\n",
       "      <td>0.000387</td>\n",
       "      <td>0.007353</td>\n",
       "      <td>0.005509</td>\n",
       "      <td>0.006191</td>\n",
       "      <td>0.030899</td>\n",
       "    </tr>\n",
       "  </tbody>\n",
       "</table>\n",
       "</div>"
      ],
      "text/plain": [
       "country  Australia   Austria   Belgium    Brasil     China  Colombia  \\\n",
       "buyer                                                                  \n",
       "0         0.017825  0.000007  0.009733  0.125781  0.298927  0.000076   \n",
       "1         0.002954  0.000002  0.001538  0.020242  0.047665  0.000011   \n",
       "\n",
       "country  Deutschland    France  Germany     Japan    Poland  South Korea  \\\n",
       "buyer                                                                      \n",
       "0           0.000004  0.040110  0.03673  0.020786  0.002243     0.045004   \n",
       "1           0.000002  0.006618  0.00582  0.003183  0.000387     0.007353   \n",
       "\n",
       "country     Spain  United Kingdom  United States  \n",
       "buyer                                             \n",
       "0        0.034842        0.039186       0.190373  \n",
       "1        0.005509        0.006191       0.030899  "
      ]
     },
     "execution_count": 24,
     "metadata": {},
     "output_type": "execute_result"
    }
   ],
   "source": [
    "pd.crosstab(clientes_df.buyer, clientes_df.country, normalize=True)\n"
   ]
  },
  {
   "cell_type": "code",
   "execution_count": 25,
   "id": "9d0fa43d",
   "metadata": {},
   "outputs": [
    {
     "data": {
      "text/html": [
       "<div>\n",
       "<style scoped>\n",
       "    .dataframe tbody tr th:only-of-type {\n",
       "        vertical-align: middle;\n",
       "    }\n",
       "\n",
       "    .dataframe tbody tr th {\n",
       "        vertical-align: top;\n",
       "    }\n",
       "\n",
       "    .dataframe thead th {\n",
       "        text-align: right;\n",
       "    }\n",
       "</style>\n",
       "<table border=\"1\" class=\"dataframe\">\n",
       "  <thead>\n",
       "    <tr style=\"text-align: right;\">\n",
       "      <th></th>\n",
       "      <th>user_id</th>\n",
       "      <th>sequence_number</th>\n",
       "      <th>event_type</th>\n",
       "      <th>age</th>\n",
       "      <th>gender</th>\n",
       "      <th>country</th>\n",
       "      <th>traffic_source</th>\n",
       "      <th>buyer</th>\n",
       "    </tr>\n",
       "  </thead>\n",
       "  <tbody>\n",
       "    <tr>\n",
       "      <th>0</th>\n",
       "      <td>35092.0</td>\n",
       "      <td>3</td>\n",
       "      <td>cart</td>\n",
       "      <td>50</td>\n",
       "      <td>F</td>\n",
       "      <td>Japan</td>\n",
       "      <td>Display</td>\n",
       "      <td>0</td>\n",
       "    </tr>\n",
       "    <tr>\n",
       "      <th>1</th>\n",
       "      <td>34028.0</td>\n",
       "      <td>6</td>\n",
       "      <td>cart</td>\n",
       "      <td>70</td>\n",
       "      <td>F</td>\n",
       "      <td>Japan</td>\n",
       "      <td>Email</td>\n",
       "      <td>0</td>\n",
       "    </tr>\n",
       "    <tr>\n",
       "      <th>2</th>\n",
       "      <td>13199.0</td>\n",
       "      <td>4</td>\n",
       "      <td>cart</td>\n",
       "      <td>16</td>\n",
       "      <td>F</td>\n",
       "      <td>Brasil</td>\n",
       "      <td>Search</td>\n",
       "      <td>0</td>\n",
       "    </tr>\n",
       "    <tr>\n",
       "      <th>3</th>\n",
       "      <td>87818.0</td>\n",
       "      <td>3</td>\n",
       "      <td>cart</td>\n",
       "      <td>37</td>\n",
       "      <td>F</td>\n",
       "      <td>Brasil</td>\n",
       "      <td>Facebook</td>\n",
       "      <td>0</td>\n",
       "    </tr>\n",
       "    <tr>\n",
       "      <th>4</th>\n",
       "      <td>46234.0</td>\n",
       "      <td>3</td>\n",
       "      <td>cart</td>\n",
       "      <td>12</td>\n",
       "      <td>F</td>\n",
       "      <td>Brasil</td>\n",
       "      <td>Search</td>\n",
       "      <td>0</td>\n",
       "    </tr>\n",
       "  </tbody>\n",
       "</table>\n",
       "</div>"
      ],
      "text/plain": [
       "   user_id  sequence_number event_type  age gender country traffic_source  \\\n",
       "0  35092.0                3       cart   50      F   Japan        Display   \n",
       "1  34028.0                6       cart   70      F   Japan          Email   \n",
       "2  13199.0                4       cart   16      F  Brasil         Search   \n",
       "3  87818.0                3       cart   37      F  Brasil       Facebook   \n",
       "4  46234.0                3       cart   12      F  Brasil         Search   \n",
       "\n",
       "   buyer  \n",
       "0      0  \n",
       "1      0  \n",
       "2      0  \n",
       "3      0  \n",
       "4      0  "
      ]
     },
     "execution_count": 25,
     "metadata": {},
     "output_type": "execute_result"
    }
   ],
   "source": [
    "clientes_df.head()"
   ]
  },
  {
   "cell_type": "code",
   "execution_count": 26,
   "id": "56d69f31",
   "metadata": {},
   "outputs": [
    {
     "data": {
      "text/plain": [
       "Index(['user_id', 'sequence_number', 'age'], dtype='object')"
      ]
     },
     "execution_count": 26,
     "metadata": {},
     "output_type": "execute_result"
    }
   ],
   "source": [
    "#definimos las variables numéricas\n",
    "numeric = clientes_df.select_dtypes(exclude=\"object\")\n",
    "numeric.drop([\"buyer\"], axis = 1, inplace = True)\n",
    "var_numericas = numeric.columns\n",
    "var_numericas"
   ]
  },
  {
   "cell_type": "code",
   "execution_count": 27,
   "id": "c66b29e0",
   "metadata": {},
   "outputs": [
    {
     "name": "stdout",
     "output_type": "stream",
     "text": [
      "Valor de test=0.955, p-value=0.000\n",
      "La variable  user_id  no proviene de una distribución normal (rechazamos H0), por lo tanto H1 \n",
      "\n",
      "Valor de test=0.909, p-value=0.000\n",
      "La variable  sequence_number  no proviene de una distribución normal (rechazamos H0), por lo tanto H1 \n",
      "\n",
      "Valor de test=0.954, p-value=0.000\n",
      "La variable  age  no proviene de una distribución normal (rechazamos H0), por lo tanto H1 \n",
      "\n"
     ]
    }
   ],
   "source": [
    "#comprobamos su normalización con la función definida al comienzo\n",
    "from scipy.stats import shapiro\n",
    "\n",
    "for columna_numerica  in var_numericas:\n",
    "    # Aplicamos shapiro\n",
    "    stat, p = shapiro(clientes_df[columna_numerica])\n",
    "    \n",
    "    print('Valor de test=%.3f, p-value=%.3f' % (stat, p))\n",
    "    # Interpretación de resultados\n",
    "    alpha = 0.05\n",
    "    if p > alpha:\n",
    "        print('La variable ',columna_numerica, ' proviene de una distribución normal (no rechazamos H0) \\n')\n",
    "    else:\n",
    "        print('La variable ',columna_numerica, ' no proviene de una distribución normal (rechazamos H0), por lo tanto H1 \\n')"
   ]
  },
  {
   "cell_type": "code",
   "execution_count": 28,
   "id": "765fbb29",
   "metadata": {},
   "outputs": [],
   "source": [
    "#Normalizamos las 3 variables con sklearn\n",
    "from sklearn.preprocessing import StandardScaler"
   ]
  },
  {
   "cell_type": "code",
   "execution_count": 29,
   "id": "5d45e8d1",
   "metadata": {},
   "outputs": [],
   "source": [
    "sc = StandardScaler()\n",
    "\n",
    "clientes_df[var_numericas] = sc.fit_transform(clientes_df[var_numericas])"
   ]
  },
  {
   "cell_type": "code",
   "execution_count": 30,
   "id": "662571a1",
   "metadata": {},
   "outputs": [
    {
     "data": {
      "text/html": [
       "<div>\n",
       "<style scoped>\n",
       "    .dataframe tbody tr th:only-of-type {\n",
       "        vertical-align: middle;\n",
       "    }\n",
       "\n",
       "    .dataframe tbody tr th {\n",
       "        vertical-align: top;\n",
       "    }\n",
       "\n",
       "    .dataframe thead th {\n",
       "        text-align: right;\n",
       "    }\n",
       "</style>\n",
       "<table border=\"1\" class=\"dataframe\">\n",
       "  <thead>\n",
       "    <tr style=\"text-align: right;\">\n",
       "      <th></th>\n",
       "      <th>user_id</th>\n",
       "      <th>sequence_number</th>\n",
       "      <th>event_type</th>\n",
       "      <th>age</th>\n",
       "      <th>gender</th>\n",
       "      <th>country</th>\n",
       "      <th>traffic_source</th>\n",
       "      <th>buyer</th>\n",
       "    </tr>\n",
       "  </thead>\n",
       "  <tbody>\n",
       "    <tr>\n",
       "      <th>0</th>\n",
       "      <td>-0.515695</td>\n",
       "      <td>-0.547524</td>\n",
       "      <td>cart</td>\n",
       "      <td>0.524620</td>\n",
       "      <td>F</td>\n",
       "      <td>Japan</td>\n",
       "      <td>Display</td>\n",
       "      <td>0</td>\n",
       "    </tr>\n",
       "    <tr>\n",
       "      <th>1</th>\n",
       "      <td>-0.552616</td>\n",
       "      <td>0.452614</td>\n",
       "      <td>cart</td>\n",
       "      <td>1.698963</td>\n",
       "      <td>F</td>\n",
       "      <td>Japan</td>\n",
       "      <td>Email</td>\n",
       "      <td>0</td>\n",
       "    </tr>\n",
       "    <tr>\n",
       "      <th>2</th>\n",
       "      <td>-1.275380</td>\n",
       "      <td>-0.214145</td>\n",
       "      <td>cart</td>\n",
       "      <td>-1.471763</td>\n",
       "      <td>F</td>\n",
       "      <td>Brasil</td>\n",
       "      <td>Search</td>\n",
       "      <td>0</td>\n",
       "    </tr>\n",
       "    <tr>\n",
       "      <th>3</th>\n",
       "      <td>1.313892</td>\n",
       "      <td>-0.547524</td>\n",
       "      <td>cart</td>\n",
       "      <td>-0.238703</td>\n",
       "      <td>F</td>\n",
       "      <td>Brasil</td>\n",
       "      <td>Facebook</td>\n",
       "      <td>0</td>\n",
       "    </tr>\n",
       "    <tr>\n",
       "      <th>4</th>\n",
       "      <td>-0.129069</td>\n",
       "      <td>-0.547524</td>\n",
       "      <td>cart</td>\n",
       "      <td>-1.706631</td>\n",
       "      <td>F</td>\n",
       "      <td>Brasil</td>\n",
       "      <td>Search</td>\n",
       "      <td>0</td>\n",
       "    </tr>\n",
       "    <tr>\n",
       "      <th>...</th>\n",
       "      <td>...</td>\n",
       "      <td>...</td>\n",
       "      <td>...</td>\n",
       "      <td>...</td>\n",
       "      <td>...</td>\n",
       "      <td>...</td>\n",
       "      <td>...</td>\n",
       "      <td>...</td>\n",
       "    </tr>\n",
       "    <tr>\n",
       "      <th>563028</th>\n",
       "      <td>-1.136962</td>\n",
       "      <td>0.452614</td>\n",
       "      <td>cart</td>\n",
       "      <td>-1.178177</td>\n",
       "      <td>F</td>\n",
       "      <td>China</td>\n",
       "      <td>Search</td>\n",
       "      <td>0</td>\n",
       "    </tr>\n",
       "    <tr>\n",
       "      <th>563029</th>\n",
       "      <td>1.454669</td>\n",
       "      <td>0.452614</td>\n",
       "      <td>cart</td>\n",
       "      <td>-1.706631</td>\n",
       "      <td>F</td>\n",
       "      <td>Germany</td>\n",
       "      <td>Facebook</td>\n",
       "      <td>0</td>\n",
       "    </tr>\n",
       "    <tr>\n",
       "      <th>563030</th>\n",
       "      <td>-0.386438</td>\n",
       "      <td>2.452890</td>\n",
       "      <td>cart</td>\n",
       "      <td>-1.002025</td>\n",
       "      <td>M</td>\n",
       "      <td>China</td>\n",
       "      <td>Search</td>\n",
       "      <td>0</td>\n",
       "    </tr>\n",
       "    <tr>\n",
       "      <th>563031</th>\n",
       "      <td>-1.228952</td>\n",
       "      <td>-0.214145</td>\n",
       "      <td>cart</td>\n",
       "      <td>-1.002025</td>\n",
       "      <td>F</td>\n",
       "      <td>South Korea</td>\n",
       "      <td>Search</td>\n",
       "      <td>0</td>\n",
       "    </tr>\n",
       "    <tr>\n",
       "      <th>563032</th>\n",
       "      <td>1.322879</td>\n",
       "      <td>-0.547524</td>\n",
       "      <td>cart</td>\n",
       "      <td>-1.354328</td>\n",
       "      <td>F</td>\n",
       "      <td>France</td>\n",
       "      <td>Search</td>\n",
       "      <td>0</td>\n",
       "    </tr>\n",
       "  </tbody>\n",
       "</table>\n",
       "<p>563033 rows × 8 columns</p>\n",
       "</div>"
      ],
      "text/plain": [
       "         user_id  sequence_number event_type       age gender      country  \\\n",
       "0      -0.515695        -0.547524       cart  0.524620      F        Japan   \n",
       "1      -0.552616         0.452614       cart  1.698963      F        Japan   \n",
       "2      -1.275380        -0.214145       cart -1.471763      F       Brasil   \n",
       "3       1.313892        -0.547524       cart -0.238703      F       Brasil   \n",
       "4      -0.129069        -0.547524       cart -1.706631      F       Brasil   \n",
       "...          ...              ...        ...       ...    ...          ...   \n",
       "563028 -1.136962         0.452614       cart -1.178177      F        China   \n",
       "563029  1.454669         0.452614       cart -1.706631      F      Germany   \n",
       "563030 -0.386438         2.452890       cart -1.002025      M        China   \n",
       "563031 -1.228952        -0.214145       cart -1.002025      F  South Korea   \n",
       "563032  1.322879        -0.547524       cart -1.354328      F       France   \n",
       "\n",
       "       traffic_source  buyer  \n",
       "0             Display      0  \n",
       "1               Email      0  \n",
       "2              Search      0  \n",
       "3            Facebook      0  \n",
       "4              Search      0  \n",
       "...               ...    ...  \n",
       "563028         Search      0  \n",
       "563029       Facebook      0  \n",
       "563030         Search      0  \n",
       "563031         Search      0  \n",
       "563032         Search      0  \n",
       "\n",
       "[563033 rows x 8 columns]"
      ]
     },
     "execution_count": 30,
     "metadata": {},
     "output_type": "execute_result"
    }
   ],
   "source": [
    "clientes_df"
   ]
  },
  {
   "cell_type": "code",
   "execution_count": 31,
   "id": "d7399517",
   "metadata": {},
   "outputs": [
    {
     "data": {
      "text/plain": [
       "Index(['user_id', 'sequence_number', 'event_type', 'age', 'gender', 'country',\n",
       "       'traffic_source', 'buyer'],\n",
       "      dtype='object')"
      ]
     },
     "execution_count": 31,
     "metadata": {},
     "output_type": "execute_result"
    }
   ],
   "source": [
    "clientes_df.columns"
   ]
  },
  {
   "cell_type": "code",
   "execution_count": 32,
   "id": "68cefcb5",
   "metadata": {},
   "outputs": [],
   "source": [
    "clientes_df = pd.get_dummies(clientes_df, columns=['gender', \"event_type\" ,'country', 'traffic_source'])"
   ]
  },
  {
   "cell_type": "code",
   "execution_count": 33,
   "id": "d27b08d3",
   "metadata": {},
   "outputs": [
    {
     "data": {
      "text/plain": [
       "Index(['user_id', 'sequence_number', 'age', 'buyer', 'gender_F', 'gender_M',\n",
       "       'event_type_cart', 'event_type_department', 'event_type_home',\n",
       "       'event_type_product', 'event_type_purchase', 'country_Australia',\n",
       "       'country_Austria', 'country_Belgium', 'country_Brasil', 'country_China',\n",
       "       'country_Colombia', 'country_Deutschland', 'country_France',\n",
       "       'country_Germany', 'country_Japan', 'country_Poland',\n",
       "       'country_South Korea', 'country_Spain', 'country_United Kingdom',\n",
       "       'country_United States', 'traffic_source_Display',\n",
       "       'traffic_source_Email', 'traffic_source_Facebook',\n",
       "       'traffic_source_Organic', 'traffic_source_Search'],\n",
       "      dtype='object')"
      ]
     },
     "execution_count": 33,
     "metadata": {},
     "output_type": "execute_result"
    }
   ],
   "source": [
    "clientes_df.columns"
   ]
  },
  {
   "cell_type": "code",
   "execution_count": 34,
   "id": "179c1324",
   "metadata": {},
   "outputs": [
    {
     "data": {
      "text/html": [
       "<div>\n",
       "<style scoped>\n",
       "    .dataframe tbody tr th:only-of-type {\n",
       "        vertical-align: middle;\n",
       "    }\n",
       "\n",
       "    .dataframe tbody tr th {\n",
       "        vertical-align: top;\n",
       "    }\n",
       "\n",
       "    .dataframe thead th {\n",
       "        text-align: right;\n",
       "    }\n",
       "</style>\n",
       "<table border=\"1\" class=\"dataframe\">\n",
       "  <thead>\n",
       "    <tr style=\"text-align: right;\">\n",
       "      <th></th>\n",
       "      <th>user_id</th>\n",
       "      <th>sequence_number</th>\n",
       "      <th>age</th>\n",
       "      <th>buyer</th>\n",
       "      <th>gender_F</th>\n",
       "      <th>gender_M</th>\n",
       "      <th>event_type_cart</th>\n",
       "      <th>event_type_department</th>\n",
       "      <th>event_type_home</th>\n",
       "      <th>event_type_product</th>\n",
       "      <th>...</th>\n",
       "      <th>country_Poland</th>\n",
       "      <th>country_South Korea</th>\n",
       "      <th>country_Spain</th>\n",
       "      <th>country_United Kingdom</th>\n",
       "      <th>country_United States</th>\n",
       "      <th>traffic_source_Display</th>\n",
       "      <th>traffic_source_Email</th>\n",
       "      <th>traffic_source_Facebook</th>\n",
       "      <th>traffic_source_Organic</th>\n",
       "      <th>traffic_source_Search</th>\n",
       "    </tr>\n",
       "  </thead>\n",
       "  <tbody>\n",
       "    <tr>\n",
       "      <th>0</th>\n",
       "      <td>-0.515695</td>\n",
       "      <td>-0.547524</td>\n",
       "      <td>0.524620</td>\n",
       "      <td>0</td>\n",
       "      <td>1</td>\n",
       "      <td>0</td>\n",
       "      <td>1</td>\n",
       "      <td>0</td>\n",
       "      <td>0</td>\n",
       "      <td>0</td>\n",
       "      <td>...</td>\n",
       "      <td>0</td>\n",
       "      <td>0</td>\n",
       "      <td>0</td>\n",
       "      <td>0</td>\n",
       "      <td>0</td>\n",
       "      <td>1</td>\n",
       "      <td>0</td>\n",
       "      <td>0</td>\n",
       "      <td>0</td>\n",
       "      <td>0</td>\n",
       "    </tr>\n",
       "    <tr>\n",
       "      <th>1</th>\n",
       "      <td>-0.552616</td>\n",
       "      <td>0.452614</td>\n",
       "      <td>1.698963</td>\n",
       "      <td>0</td>\n",
       "      <td>1</td>\n",
       "      <td>0</td>\n",
       "      <td>1</td>\n",
       "      <td>0</td>\n",
       "      <td>0</td>\n",
       "      <td>0</td>\n",
       "      <td>...</td>\n",
       "      <td>0</td>\n",
       "      <td>0</td>\n",
       "      <td>0</td>\n",
       "      <td>0</td>\n",
       "      <td>0</td>\n",
       "      <td>0</td>\n",
       "      <td>1</td>\n",
       "      <td>0</td>\n",
       "      <td>0</td>\n",
       "      <td>0</td>\n",
       "    </tr>\n",
       "    <tr>\n",
       "      <th>2</th>\n",
       "      <td>-1.275380</td>\n",
       "      <td>-0.214145</td>\n",
       "      <td>-1.471763</td>\n",
       "      <td>0</td>\n",
       "      <td>1</td>\n",
       "      <td>0</td>\n",
       "      <td>1</td>\n",
       "      <td>0</td>\n",
       "      <td>0</td>\n",
       "      <td>0</td>\n",
       "      <td>...</td>\n",
       "      <td>0</td>\n",
       "      <td>0</td>\n",
       "      <td>0</td>\n",
       "      <td>0</td>\n",
       "      <td>0</td>\n",
       "      <td>0</td>\n",
       "      <td>0</td>\n",
       "      <td>0</td>\n",
       "      <td>0</td>\n",
       "      <td>1</td>\n",
       "    </tr>\n",
       "    <tr>\n",
       "      <th>3</th>\n",
       "      <td>1.313892</td>\n",
       "      <td>-0.547524</td>\n",
       "      <td>-0.238703</td>\n",
       "      <td>0</td>\n",
       "      <td>1</td>\n",
       "      <td>0</td>\n",
       "      <td>1</td>\n",
       "      <td>0</td>\n",
       "      <td>0</td>\n",
       "      <td>0</td>\n",
       "      <td>...</td>\n",
       "      <td>0</td>\n",
       "      <td>0</td>\n",
       "      <td>0</td>\n",
       "      <td>0</td>\n",
       "      <td>0</td>\n",
       "      <td>0</td>\n",
       "      <td>0</td>\n",
       "      <td>1</td>\n",
       "      <td>0</td>\n",
       "      <td>0</td>\n",
       "    </tr>\n",
       "    <tr>\n",
       "      <th>4</th>\n",
       "      <td>-0.129069</td>\n",
       "      <td>-0.547524</td>\n",
       "      <td>-1.706631</td>\n",
       "      <td>0</td>\n",
       "      <td>1</td>\n",
       "      <td>0</td>\n",
       "      <td>1</td>\n",
       "      <td>0</td>\n",
       "      <td>0</td>\n",
       "      <td>0</td>\n",
       "      <td>...</td>\n",
       "      <td>0</td>\n",
       "      <td>0</td>\n",
       "      <td>0</td>\n",
       "      <td>0</td>\n",
       "      <td>0</td>\n",
       "      <td>0</td>\n",
       "      <td>0</td>\n",
       "      <td>0</td>\n",
       "      <td>0</td>\n",
       "      <td>1</td>\n",
       "    </tr>\n",
       "    <tr>\n",
       "      <th>...</th>\n",
       "      <td>...</td>\n",
       "      <td>...</td>\n",
       "      <td>...</td>\n",
       "      <td>...</td>\n",
       "      <td>...</td>\n",
       "      <td>...</td>\n",
       "      <td>...</td>\n",
       "      <td>...</td>\n",
       "      <td>...</td>\n",
       "      <td>...</td>\n",
       "      <td>...</td>\n",
       "      <td>...</td>\n",
       "      <td>...</td>\n",
       "      <td>...</td>\n",
       "      <td>...</td>\n",
       "      <td>...</td>\n",
       "      <td>...</td>\n",
       "      <td>...</td>\n",
       "      <td>...</td>\n",
       "      <td>...</td>\n",
       "      <td>...</td>\n",
       "    </tr>\n",
       "    <tr>\n",
       "      <th>563028</th>\n",
       "      <td>-1.136962</td>\n",
       "      <td>0.452614</td>\n",
       "      <td>-1.178177</td>\n",
       "      <td>0</td>\n",
       "      <td>1</td>\n",
       "      <td>0</td>\n",
       "      <td>1</td>\n",
       "      <td>0</td>\n",
       "      <td>0</td>\n",
       "      <td>0</td>\n",
       "      <td>...</td>\n",
       "      <td>0</td>\n",
       "      <td>0</td>\n",
       "      <td>0</td>\n",
       "      <td>0</td>\n",
       "      <td>0</td>\n",
       "      <td>0</td>\n",
       "      <td>0</td>\n",
       "      <td>0</td>\n",
       "      <td>0</td>\n",
       "      <td>1</td>\n",
       "    </tr>\n",
       "    <tr>\n",
       "      <th>563029</th>\n",
       "      <td>1.454669</td>\n",
       "      <td>0.452614</td>\n",
       "      <td>-1.706631</td>\n",
       "      <td>0</td>\n",
       "      <td>1</td>\n",
       "      <td>0</td>\n",
       "      <td>1</td>\n",
       "      <td>0</td>\n",
       "      <td>0</td>\n",
       "      <td>0</td>\n",
       "      <td>...</td>\n",
       "      <td>0</td>\n",
       "      <td>0</td>\n",
       "      <td>0</td>\n",
       "      <td>0</td>\n",
       "      <td>0</td>\n",
       "      <td>0</td>\n",
       "      <td>0</td>\n",
       "      <td>1</td>\n",
       "      <td>0</td>\n",
       "      <td>0</td>\n",
       "    </tr>\n",
       "    <tr>\n",
       "      <th>563030</th>\n",
       "      <td>-0.386438</td>\n",
       "      <td>2.452890</td>\n",
       "      <td>-1.002025</td>\n",
       "      <td>0</td>\n",
       "      <td>0</td>\n",
       "      <td>1</td>\n",
       "      <td>1</td>\n",
       "      <td>0</td>\n",
       "      <td>0</td>\n",
       "      <td>0</td>\n",
       "      <td>...</td>\n",
       "      <td>0</td>\n",
       "      <td>0</td>\n",
       "      <td>0</td>\n",
       "      <td>0</td>\n",
       "      <td>0</td>\n",
       "      <td>0</td>\n",
       "      <td>0</td>\n",
       "      <td>0</td>\n",
       "      <td>0</td>\n",
       "      <td>1</td>\n",
       "    </tr>\n",
       "    <tr>\n",
       "      <th>563031</th>\n",
       "      <td>-1.228952</td>\n",
       "      <td>-0.214145</td>\n",
       "      <td>-1.002025</td>\n",
       "      <td>0</td>\n",
       "      <td>1</td>\n",
       "      <td>0</td>\n",
       "      <td>1</td>\n",
       "      <td>0</td>\n",
       "      <td>0</td>\n",
       "      <td>0</td>\n",
       "      <td>...</td>\n",
       "      <td>0</td>\n",
       "      <td>1</td>\n",
       "      <td>0</td>\n",
       "      <td>0</td>\n",
       "      <td>0</td>\n",
       "      <td>0</td>\n",
       "      <td>0</td>\n",
       "      <td>0</td>\n",
       "      <td>0</td>\n",
       "      <td>1</td>\n",
       "    </tr>\n",
       "    <tr>\n",
       "      <th>563032</th>\n",
       "      <td>1.322879</td>\n",
       "      <td>-0.547524</td>\n",
       "      <td>-1.354328</td>\n",
       "      <td>0</td>\n",
       "      <td>1</td>\n",
       "      <td>0</td>\n",
       "      <td>1</td>\n",
       "      <td>0</td>\n",
       "      <td>0</td>\n",
       "      <td>0</td>\n",
       "      <td>...</td>\n",
       "      <td>0</td>\n",
       "      <td>0</td>\n",
       "      <td>0</td>\n",
       "      <td>0</td>\n",
       "      <td>0</td>\n",
       "      <td>0</td>\n",
       "      <td>0</td>\n",
       "      <td>0</td>\n",
       "      <td>0</td>\n",
       "      <td>1</td>\n",
       "    </tr>\n",
       "  </tbody>\n",
       "</table>\n",
       "<p>563033 rows × 31 columns</p>\n",
       "</div>"
      ],
      "text/plain": [
       "         user_id  sequence_number       age  buyer  gender_F  gender_M  \\\n",
       "0      -0.515695        -0.547524  0.524620      0         1         0   \n",
       "1      -0.552616         0.452614  1.698963      0         1         0   \n",
       "2      -1.275380        -0.214145 -1.471763      0         1         0   \n",
       "3       1.313892        -0.547524 -0.238703      0         1         0   \n",
       "4      -0.129069        -0.547524 -1.706631      0         1         0   \n",
       "...          ...              ...       ...    ...       ...       ...   \n",
       "563028 -1.136962         0.452614 -1.178177      0         1         0   \n",
       "563029  1.454669         0.452614 -1.706631      0         1         0   \n",
       "563030 -0.386438         2.452890 -1.002025      0         0         1   \n",
       "563031 -1.228952        -0.214145 -1.002025      0         1         0   \n",
       "563032  1.322879        -0.547524 -1.354328      0         1         0   \n",
       "\n",
       "        event_type_cart  event_type_department  event_type_home  \\\n",
       "0                     1                      0                0   \n",
       "1                     1                      0                0   \n",
       "2                     1                      0                0   \n",
       "3                     1                      0                0   \n",
       "4                     1                      0                0   \n",
       "...                 ...                    ...              ...   \n",
       "563028                1                      0                0   \n",
       "563029                1                      0                0   \n",
       "563030                1                      0                0   \n",
       "563031                1                      0                0   \n",
       "563032                1                      0                0   \n",
       "\n",
       "        event_type_product  ...  country_Poland  country_South Korea  \\\n",
       "0                        0  ...               0                    0   \n",
       "1                        0  ...               0                    0   \n",
       "2                        0  ...               0                    0   \n",
       "3                        0  ...               0                    0   \n",
       "4                        0  ...               0                    0   \n",
       "...                    ...  ...             ...                  ...   \n",
       "563028                   0  ...               0                    0   \n",
       "563029                   0  ...               0                    0   \n",
       "563030                   0  ...               0                    0   \n",
       "563031                   0  ...               0                    1   \n",
       "563032                   0  ...               0                    0   \n",
       "\n",
       "        country_Spain  country_United Kingdom  country_United States  \\\n",
       "0                   0                       0                      0   \n",
       "1                   0                       0                      0   \n",
       "2                   0                       0                      0   \n",
       "3                   0                       0                      0   \n",
       "4                   0                       0                      0   \n",
       "...               ...                     ...                    ...   \n",
       "563028              0                       0                      0   \n",
       "563029              0                       0                      0   \n",
       "563030              0                       0                      0   \n",
       "563031              0                       0                      0   \n",
       "563032              0                       0                      0   \n",
       "\n",
       "        traffic_source_Display  traffic_source_Email  traffic_source_Facebook  \\\n",
       "0                            1                     0                        0   \n",
       "1                            0                     1                        0   \n",
       "2                            0                     0                        0   \n",
       "3                            0                     0                        1   \n",
       "4                            0                     0                        0   \n",
       "...                        ...                   ...                      ...   \n",
       "563028                       0                     0                        0   \n",
       "563029                       0                     0                        1   \n",
       "563030                       0                     0                        0   \n",
       "563031                       0                     0                        0   \n",
       "563032                       0                     0                        0   \n",
       "\n",
       "        traffic_source_Organic  traffic_source_Search  \n",
       "0                            0                      0  \n",
       "1                            0                      0  \n",
       "2                            0                      1  \n",
       "3                            0                      0  \n",
       "4                            0                      1  \n",
       "...                        ...                    ...  \n",
       "563028                       0                      1  \n",
       "563029                       0                      0  \n",
       "563030                       0                      1  \n",
       "563031                       0                      1  \n",
       "563032                       0                      1  \n",
       "\n",
       "[563033 rows x 31 columns]"
      ]
     },
     "execution_count": 34,
     "metadata": {},
     "output_type": "execute_result"
    }
   ],
   "source": [
    "clientes_df"
   ]
  },
  {
   "cell_type": "code",
   "execution_count": 35,
   "id": "841cb24d",
   "metadata": {},
   "outputs": [],
   "source": [
    "# Conjuntos X e Y extrayendo la variable objetivo\n",
    "X = clientes_df.drop([\"buyer\"], axis = 1, inplace = False)\n",
    "Y = clientes_df[\"buyer\"]"
   ]
  },
  {
   "cell_type": "code",
   "execution_count": 36,
   "id": "ed4ec4c8",
   "metadata": {},
   "outputs": [],
   "source": [
    "#nos importamos Train Test Split de la librería de Sklearn\n",
    "from sklearn.model_selection import train_test_split"
   ]
  },
  {
   "cell_type": "code",
   "execution_count": 37,
   "id": "8a54d586",
   "metadata": {},
   "outputs": [],
   "source": [
    "#Identificamos las partes X e Y para train y test, y decidimos que el tamaño del test lo haremos sobre el 20% de los datos\n",
    "#por lo que asignamos al tamaño del test 0.20\n",
    "X_train, X_test, y_train, y_test = train_test_split(X, Y, test_size = 0.20)"
   ]
  },
  {
   "cell_type": "code",
   "execution_count": 38,
   "id": "025952c7",
   "metadata": {},
   "outputs": [
    {
     "name": "stdout",
     "output_type": "stream",
     "text": [
      "El Tamaño de TRAIN es de\n",
      "(450426, 30) filas y columnas en el eje x\n",
      "(450426,) filas en el eje y\n",
      "El Tamaño de TEST es de\n",
      "(112607, 30) filas y columnas en el eje x\n",
      "(112607,) filas en el eje y\n"
     ]
    }
   ],
   "source": [
    "#Vamos a ver e identificar el tamaño de cada parte\n",
    "print(\"El Tamaño de TRAIN es de\")\n",
    "print((X_train.shape),\"filas y columnas en el eje x\")\n",
    "print((y_train.shape ),\"filas en el eje y\")\n",
    "print(\"El Tamaño de TEST es de\")\n",
    "print((X_test.shape),\"filas y columnas en el eje x\")\n",
    "print((y_test.shape),\"filas en el eje y\")"
   ]
  },
  {
   "cell_type": "code",
   "execution_count": 39,
   "id": "bb9abf88",
   "metadata": {},
   "outputs": [],
   "source": [
    "from sklearn.linear_model import LogisticRegression\n",
    "from sklearn.tree import DecisionTreeClassifier\n",
    "from sklearn.neighbors import KNeighborsClassifier\n",
    "from sklearn.ensemble import RandomForestClassifier\n",
    "from sklearn.svm import SVC"
   ]
  },
  {
   "cell_type": "code",
   "execution_count": 40,
   "id": "c5c1231a",
   "metadata": {},
   "outputs": [],
   "source": [
    "model_reg = LogisticRegression()\n",
    "model_reg.fit(X_train, y_train)\n",
    "\n",
    "y_pred_reg = model_reg.predict(X_test)"
   ]
  },
  {
   "cell_type": "code",
   "execution_count": 41,
   "id": "c64e6fe4",
   "metadata": {},
   "outputs": [],
   "source": [
    "model_tree = DecisionTreeClassifier()\n",
    "model_tree.fit(X_train, y_train)\n",
    "\n",
    "y_pred_tree = model_tree.predict(X_test)"
   ]
  },
  {
   "cell_type": "code",
   "execution_count": 42,
   "id": "85a247dd",
   "metadata": {},
   "outputs": [],
   "source": [
    "model_rf = RandomForestClassifier()\n",
    "model_rf.fit(X_train, y_train)\n",
    "\n",
    "y_pred_rf = model_rf.predict(X_test)"
   ]
  },
  {
   "cell_type": "code",
   "execution_count": 43,
   "id": "648ed7b3",
   "metadata": {},
   "outputs": [],
   "source": [
    "model_svc = SVC()\n",
    "model_svc.fit(X_train, y_train)\n",
    "\n",
    "y_pred_svc = model_svc.predict(X_test)"
   ]
  },
  {
   "cell_type": "code",
   "execution_count": 44,
   "id": "cdbf34fd",
   "metadata": {},
   "outputs": [],
   "source": [
    "model_knn = KNeighborsClassifier()\n",
    "model_knn.fit(X_train, y_train)\n",
    "\n",
    "y_pred_knn = model_knn.predict(X_test)"
   ]
  },
  {
   "cell_type": "markdown",
   "id": "b86c66d1",
   "metadata": {},
   "source": [
    "### Extraer métrica Accuracy"
   ]
  },
  {
   "cell_type": "code",
   "execution_count": 45,
   "id": "0e7b83a8",
   "metadata": {},
   "outputs": [],
   "source": [
    "#importamos de SKlearn la accuracy score\n",
    "from sklearn.metrics import accuracy_score"
   ]
  },
  {
   "cell_type": "code",
   "execution_count": 48,
   "id": "0a805ad9",
   "metadata": {},
   "outputs": [
    {
     "name": "stdout",
     "output_type": "stream",
     "text": [
      "El Accuracy de LogisticRegression es:  0.99999112\n",
      "El Accuracy de DecisionTreeClassifier es:  0.99998224\n",
      "El Accuracy de KNeighborsClassifier es:  0.99998224\n",
      "El Accuracy de RandomForestClassifier es:  0.99999112\n",
      "El Accuracy de SVC es:  0.99999112\n"
     ]
    }
   ],
   "source": [
    "print(\"El Accuracy de LogisticRegression es: \", round(accuracy_score(y_test, y_pred_reg), 8))\n",
    "print(\"El Accuracy de DecisionTreeClassifier es: \", round(accuracy_score(y_test, y_pred_tree), 8))\n",
    "print(\"El Accuracy de KNeighborsClassifier es: \", round(accuracy_score(y_test, y_pred_knn), 8))\n",
    "print(\"El Accuracy de RandomForestClassifier es: \", round(accuracy_score(y_test, y_pred_rf), 8))\n",
    "print(\"El Accuracy de SVC es: \", round(accuracy_score(y_test, y_pred_svc), 8))"
   ]
  },
  {
   "cell_type": "code",
   "execution_count": 47,
   "id": "c1c05bda",
   "metadata": {},
   "outputs": [
    {
     "data": {
      "image/png": "[encoded data removed]",
      "text/plain": [
       "<Figure size 1000x600 with 1 Axes>"
      ]
     },
     "metadata": {},
     "output_type": "display_data"
    }
   ],
   "source": [
    "# Crear una lista con los nombres de los modelos y otra con los valores de accuracy. Para esto último previamente deberé asignarle un nombre a cada score del acuraccy:\n",
    "\n",
    "accuracy_reg = accuracy_score(y_test, y_pred_reg)\n",
    "accuracy_tree = accuracy_score(y_test, y_pred_tree)\n",
    "accuracy_knn = accuracy_score(y_test, y_pred_knn)\n",
    "accuracy_rf = accuracy_score(y_test, y_pred_rf)\n",
    "accuracy_svc = accuracy_score(y_test, y_pred_svc)\n",
    "\n",
    "model_names = ['Logistic Regression', 'Decision Tree', 'KNN', 'Random Forest', 'SVC']\n",
    "accuracy_scores = [accuracy_reg, accuracy_tree, accuracy_knn, accuracy_rf, accuracy_svc]\n",
    "\n",
    "# Crear la gráfica de barras\n",
    "plt.figure(figsize=(10, 6))\n",
    "plt.bar(model_names, accuracy_scores, color=['blue', 'green', 'red', 'purple', 'orange'])\n",
    "\n",
    "# Añadir título y etiquetas a los ejes\n",
    "plt.title('Comparación de Accuracy de los Modelos')\n",
    "plt.xlabel('Modelos')\n",
    "plt.ylabel('Accuracy')\n",
    "\n",
    "# Añadir los valores de accuracy encima de cada barra\n",
    "for i in range(len(model_names)):\n",
    "    plt.text(i, accuracy_scores[i] + 0.005, str(accuracy_scores[i]), ha='center')\n",
    "\n",
    "# Mostrar la gráfica\n",
    "plt.show()"
   ]
  },
  {
   "cell_type": "code",
   "execution_count": null,
   "id": "f2b60e7a",
   "metadata": {},
   "outputs": [],
   "source": [
    "#def plot_dispersion(x, figure_name, max_k = 25):\n",
    "#    inertia = []\n",
    "\n",
    "#    for k in range(2, max_k):\n",
    "#        kmeans = KMeans(n_clusters = k, n_init=10).fit(x)\n",
    "#        inertia.append(kmeans.inertia_) \n",
    "\n",
    "#    plt.plot(range(2, max_k), inertia, 'bx-')\n",
    " #   plt.xlabel('k')\n",
    "#    plt.ylabel('Dispersión')\n",
    "#    plt.title(figure_name)"
   ]
  },
  {
   "cell_type": "code",
   "execution_count": null,
   "id": "c21a6283",
   "metadata": {},
   "outputs": [],
   "source": [
    "#Comprobamos como mostraría la gráfica en caso de elegir 15klusters para ver si encontramos el codo...\n",
    "#plot_dispersion(x=clientes_df, figure_name=\"Elbow con 15K\",max_k=15)"
   ]
  },
  {
   "cell_type": "code",
   "execution_count": null,
   "id": "dd27a121",
   "metadata": {},
   "outputs": [],
   "source": [
    "#Ahora con 10 clusters\n",
    "#plot_dispersion(x=clientes_df, figure_name=\"Elbow con 10K\",max_k=10)"
   ]
  },
  {
   "cell_type": "code",
   "execution_count": null,
   "id": "dd8dc537",
   "metadata": {},
   "outputs": [],
   "source": [
    "#Parece que el nº de klusters idoneo es 5. Entrenamos KMeans con k = 5\n",
    "#model = KMeans(n_clusters=5, n_init=\"auto\")\n",
    "#model.fit(clientes_df)"
   ]
  },
  {
   "cell_type": "code",
   "execution_count": null,
   "id": "6ee9e0a5",
   "metadata": {},
   "outputs": [],
   "source": [
    "#predicciones=model.predict(clientes_df)"
   ]
  },
  {
   "cell_type": "code",
   "execution_count": null,
   "id": "6a91c11e",
   "metadata": {},
   "outputs": [],
   "source": [
    "#print(\"primeras predicciones:\")\n",
    "#print(predicciones[:20])"
   ]
  },
  {
   "cell_type": "code",
   "execution_count": null,
   "id": "e1527cda",
   "metadata": {},
   "outputs": [],
   "source": [
    "clientes_df.columns"
   ]
  },
  {
   "cell_type": "code",
   "execution_count": null,
   "id": "2ec55b73",
   "metadata": {},
   "outputs": [],
   "source": [
    "display(clientes_df.head(5))"
   ]
  }
 ],
 "metadata": {
  "kernelspec": {
   "display_name": "Python 3 (ipykernel)",
   "language": "python",
   "name": "python3"
  },
  "language_info": {
   "codemirror_mode": {
    "name": "ipython",
    "version": 3
   },
   "file_extension": ".py",
   "mimetype": "text/x-python",
   "name": "python",
   "nbconvert_exporter": "python",
   "pygments_lexer": "ipython3",
   "version": "3.11.4"
  }
 },
 "nbformat": 4,
 "nbformat_minor": 5
}
