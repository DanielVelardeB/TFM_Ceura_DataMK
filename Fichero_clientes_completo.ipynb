{
 "cells": [
  {
   "cell_type": "code",
   "execution_count": 1,
   "id": "2c10557a-3e34-431f-8d40-b107a8fb2912",
   "metadata": {
    "tags": []
   },
   "outputs": [],
   "source": [
    "import pandas as pd\n",
    "import numpy as np"
   ]
  },
  {
   "cell_type": "code",
   "execution_count": 2,
   "id": "8461ebed-b6e3-4e81-9cec-b1d4d6c115e7",
   "metadata": {
    "tags": []
   },
   "outputs": [],
   "source": [
    "df = pd.read_csv((\"events.csv\"), header=0 ,sep=\";\" ,encoding = 'ISO-8859-1')"
   ]
  },
  {
   "cell_type": "code",
   "execution_count": 3,
   "id": "3ffc5c5f-84cc-497a-86fa-2057da7a55aa",
   "metadata": {
    "tags": []
   },
   "outputs": [
    {
     "data": {
      "text/html": [
       "<div>\n",
       "<style scoped>\n",
       "    .dataframe tbody tr th:only-of-type {\n",
       "        vertical-align: middle;\n",
       "    }\n",
       "\n",
       "    .dataframe tbody tr th {\n",
       "        vertical-align: top;\n",
       "    }\n",
       "\n",
       "    .dataframe thead th {\n",
       "        text-align: right;\n",
       "    }\n",
       "</style>\n",
       "<table border=\"1\" class=\"dataframe\">\n",
       "  <thead>\n",
       "    <tr style=\"text-align: right;\">\n",
       "      <th></th>\n",
       "      <th>id</th>\n",
       "      <th>user_id</th>\n",
       "      <th>sequence_number</th>\n",
       "      <th>session_id</th>\n",
       "      <th>created_at</th>\n",
       "      <th>ip_address</th>\n",
       "      <th>city</th>\n",
       "      <th>state</th>\n",
       "      <th>postal_code</th>\n",
       "      <th>browser</th>\n",
       "      <th>traffic_source</th>\n",
       "      <th>uri</th>\n",
       "      <th>event_type</th>\n",
       "    </tr>\n",
       "  </thead>\n",
       "  <tbody>\n",
       "    <tr>\n",
       "      <th>0</th>\n",
       "      <td>2198523</td>\n",
       "      <td>NaN</td>\n",
       "      <td>3</td>\n",
       "      <td>83889ed2-2adc-4b9a-af5d-154f6998e778</td>\n",
       "      <td>2021-06-17 17:30:00+00:00</td>\n",
       "      <td>138.143.9.202</td>\n",
       "      <td>SÃ£o Paulo</td>\n",
       "      <td>SÃ£o Paulo</td>\n",
       "      <td>02675-031</td>\n",
       "      <td>Chrome</td>\n",
       "      <td>Adwords</td>\n",
       "      <td>/cancel</td>\n",
       "      <td>cancel</td>\n",
       "    </tr>\n",
       "    <tr>\n",
       "      <th>1</th>\n",
       "      <td>1773216</td>\n",
       "      <td>NaN</td>\n",
       "      <td>3</td>\n",
       "      <td>7a3fc3f2-e84f-44fe-8876-eff76741f7a3</td>\n",
       "      <td>2020-08-07 08:41:00+00:00</td>\n",
       "      <td>85.114.141.79</td>\n",
       "      <td>Santa Isabel</td>\n",
       "      <td>SÃ£o Paulo</td>\n",
       "      <td>07500-000</td>\n",
       "      <td>Safari</td>\n",
       "      <td>Adwords</td>\n",
       "      <td>/cancel</td>\n",
       "      <td>cancel</td>\n",
       "    </tr>\n",
       "    <tr>\n",
       "      <th>2</th>\n",
       "      <td>2380515</td>\n",
       "      <td>NaN</td>\n",
       "      <td>3</td>\n",
       "      <td>13d9b2fb-eee1-43fd-965c-267b38dd7125</td>\n",
       "      <td>2021-02-15 18:48:00+00:00</td>\n",
       "      <td>169.250.255.132</td>\n",
       "      <td>MairiporÃ£</td>\n",
       "      <td>SÃ£o Paulo</td>\n",
       "      <td>07600-000</td>\n",
       "      <td>IE</td>\n",
       "      <td>Adwords</td>\n",
       "      <td>/cancel</td>\n",
       "      <td>cancel</td>\n",
       "    </tr>\n",
       "    <tr>\n",
       "      <th>3</th>\n",
       "      <td>2250597</td>\n",
       "      <td>NaN</td>\n",
       "      <td>3</td>\n",
       "      <td>96f1d44e-9621-463c-954c-d8deb7fffe7f</td>\n",
       "      <td>2022-03-30 10:56:00+00:00</td>\n",
       "      <td>137.25.222.160</td>\n",
       "      <td>Cajamar</td>\n",
       "      <td>SÃ£o Paulo</td>\n",
       "      <td>07750-000</td>\n",
       "      <td>Chrome</td>\n",
       "      <td>Adwords</td>\n",
       "      <td>/cancel</td>\n",
       "      <td>cancel</td>\n",
       "    </tr>\n",
       "    <tr>\n",
       "      <th>4</th>\n",
       "      <td>1834446</td>\n",
       "      <td>NaN</td>\n",
       "      <td>3</td>\n",
       "      <td>d09dce10-a7cb-47d3-a9af-44975566fa03</td>\n",
       "      <td>2019-09-05 01:18:00+00:00</td>\n",
       "      <td>161.114.4.174</td>\n",
       "      <td>SÃ£o Paulo</td>\n",
       "      <td>SÃ£o Paulo</td>\n",
       "      <td>09581-680</td>\n",
       "      <td>Chrome</td>\n",
       "      <td>Email</td>\n",
       "      <td>/cancel</td>\n",
       "      <td>cancel</td>\n",
       "    </tr>\n",
       "  </tbody>\n",
       "</table>\n",
       "</div>"
      ],
      "text/plain": [
       "        id  user_id  sequence_number                            session_id  \\\n",
       "0  2198523      NaN                3  83889ed2-2adc-4b9a-af5d-154f6998e778   \n",
       "1  1773216      NaN                3  7a3fc3f2-e84f-44fe-8876-eff76741f7a3   \n",
       "2  2380515      NaN                3  13d9b2fb-eee1-43fd-965c-267b38dd7125   \n",
       "3  2250597      NaN                3  96f1d44e-9621-463c-954c-d8deb7fffe7f   \n",
       "4  1834446      NaN                3  d09dce10-a7cb-47d3-a9af-44975566fa03   \n",
       "\n",
       "                  created_at       ip_address          city       state  \\\n",
       "0  2021-06-17 17:30:00+00:00    138.143.9.202    SÃ£o Paulo  SÃ£o Paulo   \n",
       "1  2020-08-07 08:41:00+00:00    85.114.141.79  Santa Isabel  SÃ£o Paulo   \n",
       "2  2021-02-15 18:48:00+00:00  169.250.255.132    MairiporÃ£  SÃ£o Paulo   \n",
       "3  2022-03-30 10:56:00+00:00   137.25.222.160       Cajamar  SÃ£o Paulo   \n",
       "4  2019-09-05 01:18:00+00:00    161.114.4.174    SÃ£o Paulo  SÃ£o Paulo   \n",
       "\n",
       "  postal_code browser traffic_source      uri event_type  \n",
       "0   02675-031  Chrome        Adwords  /cancel     cancel  \n",
       "1   07500-000  Safari        Adwords  /cancel     cancel  \n",
       "2   07600-000      IE        Adwords  /cancel     cancel  \n",
       "3   07750-000  Chrome        Adwords  /cancel     cancel  \n",
       "4   09581-680  Chrome          Email  /cancel     cancel  "
      ]
     },
     "execution_count": 3,
     "metadata": {},
     "output_type": "execute_result"
    }
   ],
   "source": [
    "df.head()"
   ]
  },
  {
   "cell_type": "code",
   "execution_count": 4,
   "id": "53a764d7-529e-491f-ad6c-e714f05ba226",
   "metadata": {
    "tags": []
   },
   "outputs": [
    {
     "name": "stdout",
     "output_type": "stream",
     "text": [
      "<class 'pandas.core.frame.DataFrame'>\n",
      "RangeIndex: 1048575 entries, 0 to 1048574\n",
      "Data columns (total 13 columns):\n",
      " #   Column           Non-Null Count    Dtype  \n",
      "---  ------           --------------    -----  \n",
      " 0   id               1048575 non-null  int64  \n",
      " 1   user_id          563033 non-null   float64\n",
      " 2   sequence_number  1048575 non-null  int64  \n",
      " 3   session_id       1048575 non-null  object \n",
      " 4   created_at       1048575 non-null  object \n",
      " 5   ip_address       1048575 non-null  object \n",
      " 6   city             1038644 non-null  object \n",
      " 7   state            1048575 non-null  object \n",
      " 8   postal_code      1048575 non-null  object \n",
      " 9   browser          1048575 non-null  object \n",
      " 10  traffic_source   1048575 non-null  object \n",
      " 11  uri              1048575 non-null  object \n",
      " 12  event_type       1048554 non-null  object \n",
      "dtypes: float64(1), int64(2), object(10)\n",
      "memory usage: 104.0+ MB\n"
     ]
    }
   ],
   "source": [
    "df.info()"
   ]
  },
  {
   "cell_type": "code",
   "execution_count": 5,
   "id": "0a796ea9-fefc-480a-8199-fac3d04e072f",
   "metadata": {
    "tags": []
   },
   "outputs": [],
   "source": [
    "eventos_clientes = df.dropna(subset=[\"user_id\"])"
   ]
  },
  {
   "cell_type": "code",
   "execution_count": 6,
   "id": "b1bdd666-2eec-4358-badd-b47a0aec895d",
   "metadata": {
    "tags": []
   },
   "outputs": [
    {
     "name": "stdout",
     "output_type": "stream",
     "text": [
      "<class 'pandas.core.frame.DataFrame'>\n",
      "Int64Index: 563033 entries, 1251 to 1048574\n",
      "Data columns (total 13 columns):\n",
      " #   Column           Non-Null Count   Dtype  \n",
      "---  ------           --------------   -----  \n",
      " 0   id               563033 non-null  int64  \n",
      " 1   user_id          563033 non-null  float64\n",
      " 2   sequence_number  563033 non-null  int64  \n",
      " 3   session_id       563033 non-null  object \n",
      " 4   created_at       563033 non-null  object \n",
      " 5   ip_address       563033 non-null  object \n",
      " 6   city             557760 non-null  object \n",
      " 7   state            563033 non-null  object \n",
      " 8   postal_code      563033 non-null  object \n",
      " 9   browser          563033 non-null  object \n",
      " 10  traffic_source   563033 non-null  object \n",
      " 11  uri              563033 non-null  object \n",
      " 12  event_type       563025 non-null  object \n",
      "dtypes: float64(1), int64(2), object(10)\n",
      "memory usage: 60.1+ MB\n"
     ]
    }
   ],
   "source": [
    "eventos_clientes.info()"
   ]
  },
  {
   "cell_type": "code",
   "execution_count": 7,
   "id": "7b053f71-3854-45aa-856b-fe682910aeb0",
   "metadata": {
    "tags": []
   },
   "outputs": [
    {
     "data": {
      "text/html": [
       "<div>\n",
       "<style scoped>\n",
       "    .dataframe tbody tr th:only-of-type {\n",
       "        vertical-align: middle;\n",
       "    }\n",
       "\n",
       "    .dataframe tbody tr th {\n",
       "        vertical-align: top;\n",
       "    }\n",
       "\n",
       "    .dataframe thead th {\n",
       "        text-align: right;\n",
       "    }\n",
       "</style>\n",
       "<table border=\"1\" class=\"dataframe\">\n",
       "  <thead>\n",
       "    <tr style=\"text-align: right;\">\n",
       "      <th></th>\n",
       "      <th>id</th>\n",
       "      <th>user_id</th>\n",
       "      <th>sequence_number</th>\n",
       "      <th>session_id</th>\n",
       "      <th>created_at</th>\n",
       "      <th>ip_address</th>\n",
       "      <th>city</th>\n",
       "      <th>state</th>\n",
       "      <th>postal_code</th>\n",
       "      <th>browser</th>\n",
       "      <th>traffic_source</th>\n",
       "      <th>uri</th>\n",
       "      <th>event_type</th>\n",
       "    </tr>\n",
       "  </thead>\n",
       "  <tbody>\n",
       "    <tr>\n",
       "      <th>1251</th>\n",
       "      <td>458138</td>\n",
       "      <td>35092.0</td>\n",
       "      <td>3</td>\n",
       "      <td>e24636ad-3949-4174-bd09-4e2ae7a95aa3</td>\n",
       "      <td>2022-08-01 01:10:20+00:00</td>\n",
       "      <td>92.212.103.243</td>\n",
       "      <td>Sapporo</td>\n",
       "      <td>Hokkaido</td>\n",
       "      <td>003-0030</td>\n",
       "      <td>Chrome</td>\n",
       "      <td>Facebook</td>\n",
       "      <td>/cart</td>\n",
       "      <td>cart</td>\n",
       "    </tr>\n",
       "    <tr>\n",
       "      <th>1252</th>\n",
       "      <td>444176</td>\n",
       "      <td>34028.0</td>\n",
       "      <td>6</td>\n",
       "      <td>b334f6d8-a1fd-42e9-90e4-8e8d2af7a663</td>\n",
       "      <td>2021-07-13 23:14:04+00:00</td>\n",
       "      <td>176.14.231.160</td>\n",
       "      <td>Sapporo</td>\n",
       "      <td>Hokkaido</td>\n",
       "      <td>007-0890</td>\n",
       "      <td>Safari</td>\n",
       "      <td>Email</td>\n",
       "      <td>/cart</td>\n",
       "      <td>cart</td>\n",
       "    </tr>\n",
       "    <tr>\n",
       "      <th>1253</th>\n",
       "      <td>170896</td>\n",
       "      <td>13199.0</td>\n",
       "      <td>4</td>\n",
       "      <td>1df890d5-6783-4602-aa0a-e6668fed606e</td>\n",
       "      <td>2023-11-05 10:45:45+00:00</td>\n",
       "      <td>114.185.130.47</td>\n",
       "      <td>SÃ£o Paulo</td>\n",
       "      <td>SÃ£o Paulo</td>\n",
       "      <td>02220-000</td>\n",
       "      <td>Safari</td>\n",
       "      <td>Email</td>\n",
       "      <td>/cart</td>\n",
       "      <td>cart</td>\n",
       "    </tr>\n",
       "    <tr>\n",
       "      <th>1257</th>\n",
       "      <td>1147243</td>\n",
       "      <td>87818.0</td>\n",
       "      <td>3</td>\n",
       "      <td>e99fd570-3c66-4475-ab68-41c4a0da4bbc</td>\n",
       "      <td>2021-01-01 06:55:11+00:00</td>\n",
       "      <td>138.36.176.82</td>\n",
       "      <td>SÃ£o Paulo</td>\n",
       "      <td>SÃ£o Paulo</td>\n",
       "      <td>02675-031</td>\n",
       "      <td>Chrome</td>\n",
       "      <td>Email</td>\n",
       "      <td>/cart</td>\n",
       "      <td>cart</td>\n",
       "    </tr>\n",
       "    <tr>\n",
       "      <th>1259</th>\n",
       "      <td>604658</td>\n",
       "      <td>46234.0</td>\n",
       "      <td>3</td>\n",
       "      <td>d566d275-4aea-4e90-be87-f119b4369f48</td>\n",
       "      <td>2023-12-22 12:38:20+00:00</td>\n",
       "      <td>163.100.101.188</td>\n",
       "      <td>SÃ£o Paulo</td>\n",
       "      <td>SÃ£o Paulo</td>\n",
       "      <td>02675-031</td>\n",
       "      <td>Safari</td>\n",
       "      <td>Adwords</td>\n",
       "      <td>/cart</td>\n",
       "      <td>cart</td>\n",
       "    </tr>\n",
       "  </tbody>\n",
       "</table>\n",
       "</div>"
      ],
      "text/plain": [
       "           id  user_id  sequence_number                            session_id  \\\n",
       "1251   458138  35092.0                3  e24636ad-3949-4174-bd09-4e2ae7a95aa3   \n",
       "1252   444176  34028.0                6  b334f6d8-a1fd-42e9-90e4-8e8d2af7a663   \n",
       "1253   170896  13199.0                4  1df890d5-6783-4602-aa0a-e6668fed606e   \n",
       "1257  1147243  87818.0                3  e99fd570-3c66-4475-ab68-41c4a0da4bbc   \n",
       "1259   604658  46234.0                3  d566d275-4aea-4e90-be87-f119b4369f48   \n",
       "\n",
       "                     created_at       ip_address        city       state  \\\n",
       "1251  2022-08-01 01:10:20+00:00   92.212.103.243     Sapporo    Hokkaido   \n",
       "1252  2021-07-13 23:14:04+00:00   176.14.231.160     Sapporo    Hokkaido   \n",
       "1253  2023-11-05 10:45:45+00:00   114.185.130.47  SÃ£o Paulo  SÃ£o Paulo   \n",
       "1257  2021-01-01 06:55:11+00:00    138.36.176.82  SÃ£o Paulo  SÃ£o Paulo   \n",
       "1259  2023-12-22 12:38:20+00:00  163.100.101.188  SÃ£o Paulo  SÃ£o Paulo   \n",
       "\n",
       "     postal_code browser traffic_source    uri event_type  \n",
       "1251    003-0030  Chrome       Facebook  /cart       cart  \n",
       "1252    007-0890  Safari          Email  /cart       cart  \n",
       "1253   02220-000  Safari          Email  /cart       cart  \n",
       "1257   02675-031  Chrome          Email  /cart       cart  \n",
       "1259   02675-031  Safari        Adwords  /cart       cart  "
      ]
     },
     "execution_count": 7,
     "metadata": {},
     "output_type": "execute_result"
    }
   ],
   "source": [
    "eventos_clientes.head()"
   ]
  },
  {
   "cell_type": "code",
   "execution_count": 8,
   "id": "ed5de91d-9e55-44f3-b646-d073c7d3a241",
   "metadata": {},
   "outputs": [],
   "source": [
    "eventos_clientes = eventos_clientes.drop(['session_id','created_at','ip_address','state','postal_code','city','browser','traffic_source','uri'], axis = 1)"
   ]
  },
  {
   "cell_type": "code",
   "execution_count": 9,
   "id": "20c694fd-5e31-4ddd-98a1-f9ddac582640",
   "metadata": {
    "tags": []
   },
   "outputs": [
    {
     "name": "stdout",
     "output_type": "stream",
     "text": [
      "<class 'pandas.core.frame.DataFrame'>\n",
      "Int64Index: 563033 entries, 1251 to 1048574\n",
      "Data columns (total 4 columns):\n",
      " #   Column           Non-Null Count   Dtype  \n",
      "---  ------           --------------   -----  \n",
      " 0   id               563033 non-null  int64  \n",
      " 1   user_id          563033 non-null  float64\n",
      " 2   sequence_number  563033 non-null  int64  \n",
      " 3   event_type       563025 non-null  object \n",
      "dtypes: float64(1), int64(2), object(1)\n",
      "memory usage: 21.5+ MB\n"
     ]
    }
   ],
   "source": [
    "eventos_clientes.info()"
   ]
  },
  {
   "cell_type": "code",
   "execution_count": 11,
   "id": "16d4ecdb-e256-41bd-8606-7a9e22f79726",
   "metadata": {
    "tags": []
   },
   "outputs": [],
   "source": [
    "df2 = pd.read_csv((\"users.csv\"), header=0 ,sep=\";\" ,encoding = 'ISO-8859-1')"
   ]
  },
  {
   "cell_type": "code",
   "execution_count": 12,
   "id": "c1017611-fbac-4a11-805c-97f37dde515d",
   "metadata": {
    "tags": []
   },
   "outputs": [
    {
     "name": "stdout",
     "output_type": "stream",
     "text": [
      "<class 'pandas.core.frame.DataFrame'>\n",
      "RangeIndex: 100000 entries, 0 to 99999\n",
      "Data columns (total 15 columns):\n",
      " #   Column          Non-Null Count   Dtype \n",
      "---  ------          --------------   ----- \n",
      " 0   id              100000 non-null  int64 \n",
      " 1   first_name      100000 non-null  object\n",
      " 2   last_name       100000 non-null  object\n",
      " 3   email           100000 non-null  object\n",
      " 4   age             100000 non-null  int64 \n",
      " 5   gender          100000 non-null  object\n",
      " 6   state           100000 non-null  object\n",
      " 7   street_address  100000 non-null  object\n",
      " 8   postal_code     100000 non-null  object\n",
      " 9   city            99042 non-null   object\n",
      " 10  country         100000 non-null  object\n",
      " 11  latitude        100000 non-null  object\n",
      " 12  longitude       100000 non-null  object\n",
      " 13  traffic_source  100000 non-null  object\n",
      " 14  created_at      100000 non-null  object\n",
      "dtypes: int64(2), object(13)\n",
      "memory usage: 11.4+ MB\n"
     ]
    }
   ],
   "source": [
    "df2.info()\n"
   ]
  },
  {
   "cell_type": "code",
   "execution_count": 13,
   "id": "393294de-d01a-4d86-bcb7-153f2798a2ea",
   "metadata": {
    "tags": []
   },
   "outputs": [
    {
     "data": {
      "text/html": [
       "<div>\n",
       "<style scoped>\n",
       "    .dataframe tbody tr th:only-of-type {\n",
       "        vertical-align: middle;\n",
       "    }\n",
       "\n",
       "    .dataframe tbody tr th {\n",
       "        vertical-align: top;\n",
       "    }\n",
       "\n",
       "    .dataframe thead th {\n",
       "        text-align: right;\n",
       "    }\n",
       "</style>\n",
       "<table border=\"1\" class=\"dataframe\">\n",
       "  <thead>\n",
       "    <tr style=\"text-align: right;\">\n",
       "      <th></th>\n",
       "      <th>id</th>\n",
       "      <th>first_name</th>\n",
       "      <th>last_name</th>\n",
       "      <th>email</th>\n",
       "      <th>age</th>\n",
       "      <th>gender</th>\n",
       "      <th>state</th>\n",
       "      <th>street_address</th>\n",
       "      <th>postal_code</th>\n",
       "      <th>city</th>\n",
       "      <th>country</th>\n",
       "      <th>latitude</th>\n",
       "      <th>longitude</th>\n",
       "      <th>traffic_source</th>\n",
       "      <th>created_at</th>\n",
       "    </tr>\n",
       "  </thead>\n",
       "  <tbody>\n",
       "    <tr>\n",
       "      <th>0</th>\n",
       "      <td>457</td>\n",
       "      <td>Timothy</td>\n",
       "      <td>Bush</td>\n",
       "      <td>timothybush@example.net</td>\n",
       "      <td>65</td>\n",
       "      <td>M</td>\n",
       "      <td>Acre</td>\n",
       "      <td>87620 Johnson Hills</td>\n",
       "      <td>69917-400</td>\n",
       "      <td>Rio Branco</td>\n",
       "      <td>Brasil</td>\n",
       "      <td>-9.945.567.619</td>\n",
       "      <td>-6.783.560.991</td>\n",
       "      <td>Search</td>\n",
       "      <td>2022-07-19 13:51:00+00:00</td>\n",
       "    </tr>\n",
       "    <tr>\n",
       "      <th>1</th>\n",
       "      <td>6578</td>\n",
       "      <td>Elizabeth</td>\n",
       "      <td>Martinez</td>\n",
       "      <td>elizabethmartinez@example.com</td>\n",
       "      <td>34</td>\n",
       "      <td>F</td>\n",
       "      <td>Acre</td>\n",
       "      <td>1705 Nielsen Land</td>\n",
       "      <td>69917-400</td>\n",
       "      <td>Rio Branco</td>\n",
       "      <td>Brasil</td>\n",
       "      <td>-9.945.567.619</td>\n",
       "      <td>-6.783.560.991</td>\n",
       "      <td>Search</td>\n",
       "      <td>2023-11-08 18:49:00+00:00</td>\n",
       "    </tr>\n",
       "    <tr>\n",
       "      <th>2</th>\n",
       "      <td>36280</td>\n",
       "      <td>Christopher</td>\n",
       "      <td>Mendoza</td>\n",
       "      <td>christophermendoza@example.net</td>\n",
       "      <td>13</td>\n",
       "      <td>M</td>\n",
       "      <td>Acre</td>\n",
       "      <td>125 Turner Isle Apt. 264</td>\n",
       "      <td>69917-400</td>\n",
       "      <td>Rio Branco</td>\n",
       "      <td>Brasil</td>\n",
       "      <td>-9.945.567.619</td>\n",
       "      <td>-6.783.560.991</td>\n",
       "      <td>Email</td>\n",
       "      <td>2019-08-24 06:10:00+00:00</td>\n",
       "    </tr>\n",
       "    <tr>\n",
       "      <th>3</th>\n",
       "      <td>60193</td>\n",
       "      <td>Jimmy</td>\n",
       "      <td>Conner</td>\n",
       "      <td>jimmyconner@example.com</td>\n",
       "      <td>64</td>\n",
       "      <td>M</td>\n",
       "      <td>Acre</td>\n",
       "      <td>0966 Jose Branch Apt. 008</td>\n",
       "      <td>69917-400</td>\n",
       "      <td>Rio Branco</td>\n",
       "      <td>Brasil</td>\n",
       "      <td>-9.945.567.619</td>\n",
       "      <td>-6.783.560.991</td>\n",
       "      <td>Search</td>\n",
       "      <td>2020-02-15 11:26:00+00:00</td>\n",
       "    </tr>\n",
       "    <tr>\n",
       "      <th>4</th>\n",
       "      <td>64231</td>\n",
       "      <td>Natasha</td>\n",
       "      <td>Wilson</td>\n",
       "      <td>natashawilson@example.net</td>\n",
       "      <td>25</td>\n",
       "      <td>F</td>\n",
       "      <td>Acre</td>\n",
       "      <td>20798 Phillip Trail Apt. 392</td>\n",
       "      <td>69917-400</td>\n",
       "      <td>Rio Branco</td>\n",
       "      <td>Brasil</td>\n",
       "      <td>-9.945.567.619</td>\n",
       "      <td>-6.783.560.991</td>\n",
       "      <td>Search</td>\n",
       "      <td>2020-03-13 06:45:00+00:00</td>\n",
       "    </tr>\n",
       "  </tbody>\n",
       "</table>\n",
       "</div>"
      ],
      "text/plain": [
       "      id   first_name last_name                           email  age gender  \\\n",
       "0    457      Timothy      Bush         timothybush@example.net   65      M   \n",
       "1   6578    Elizabeth  Martinez   elizabethmartinez@example.com   34      F   \n",
       "2  36280  Christopher   Mendoza  christophermendoza@example.net   13      M   \n",
       "3  60193        Jimmy    Conner         jimmyconner@example.com   64      M   \n",
       "4  64231      Natasha    Wilson       natashawilson@example.net   25      F   \n",
       "\n",
       "  state                street_address postal_code        city country  \\\n",
       "0  Acre           87620 Johnson Hills   69917-400  Rio Branco  Brasil   \n",
       "1  Acre             1705 Nielsen Land   69917-400  Rio Branco  Brasil   \n",
       "2  Acre      125 Turner Isle Apt. 264   69917-400  Rio Branco  Brasil   \n",
       "3  Acre     0966 Jose Branch Apt. 008   69917-400  Rio Branco  Brasil   \n",
       "4  Acre  20798 Phillip Trail Apt. 392   69917-400  Rio Branco  Brasil   \n",
       "\n",
       "         latitude       longitude traffic_source                 created_at  \n",
       "0  -9.945.567.619  -6.783.560.991         Search  2022-07-19 13:51:00+00:00  \n",
       "1  -9.945.567.619  -6.783.560.991         Search  2023-11-08 18:49:00+00:00  \n",
       "2  -9.945.567.619  -6.783.560.991          Email  2019-08-24 06:10:00+00:00  \n",
       "3  -9.945.567.619  -6.783.560.991         Search  2020-02-15 11:26:00+00:00  \n",
       "4  -9.945.567.619  -6.783.560.991         Search  2020-03-13 06:45:00+00:00  "
      ]
     },
     "execution_count": 13,
     "metadata": {},
     "output_type": "execute_result"
    }
   ],
   "source": [
    "df2.head()"
   ]
  },
  {
   "cell_type": "code",
   "execution_count": 14,
   "id": "7ea51184-6e10-491e-8984-4db07e4be79c",
   "metadata": {},
   "outputs": [],
   "source": [
    "df2.rename(columns={\"id\": \"user_id\"}, inplace=True)"
   ]
  },
  {
   "cell_type": "code",
   "execution_count": 15,
   "id": "2d39ac37-f870-4ebb-9d37-cd03dd12ade9",
   "metadata": {
    "tags": []
   },
   "outputs": [
    {
     "name": "stdout",
     "output_type": "stream",
     "text": [
      "             id  user_id  sequence_number event_type   first_name  \\\n",
      "0        458138  35092.0                3       cart        Linda   \n",
      "1        444176  34028.0                6       cart      Kaitlyn   \n",
      "2        170896  13199.0                4       cart        Sarah   \n",
      "3       1147243  87818.0                3       cart       Brooke   \n",
      "4        604658  46234.0                3       cart   Jacqueline   \n",
      "...         ...      ...              ...        ...          ...   \n",
      "563028   223936  17188.0                6       cart      Jessica   \n",
      "563029  1200423  91875.0                6       cart       Hailey   \n",
      "563030   508301  38817.0               12       cart  Christopher   \n",
      "563031   188547  14537.0                4       cart         Dawn   \n",
      "563032  1150534  88077.0                3       cart      Desiree   \n",
      "\n",
      "          last_name                               email  age gender  \\\n",
      "0            Watson             lindawatson@example.net   50      F   \n",
      "1              Neal             kaitlynneal@example.org   70      F   \n",
      "2              Shaw               sarahshaw@example.org   16      F   \n",
      "3           Pittman           brookepittman@example.org   37      F   \n",
      "4         Velasquez     jacquelinevelasquez@example.com   12      F   \n",
      "...             ...                                 ...  ...    ...   \n",
      "563028       Martin           jessicamartin@example.net   21      F   \n",
      "563029          Kim               haileykim@example.com   12      F   \n",
      "563030  Christensen  christopherchristensen@example.net   24      M   \n",
      "563031        Black               dawnblack@example.org   24      F   \n",
      "563032       Garcia           desireegarcia@example.org   18      F   \n",
      "\n",
      "                                   state                street_address  \\\n",
      "0                               Hokkaido  21465 Rhonda Field Suite 992   \n",
      "1                               Hokkaido   04357 Darren Camp Suite 558   \n",
      "2                             SÃ£o Paulo     876 Stewart Port Apt. 445   \n",
      "3                             SÃ£o Paulo                981 Brandi Via   \n",
      "4                             SÃ£o Paulo  5135 Anderson Flat Suite 364   \n",
      "...                                  ...                           ...   \n",
      "563028  Guangxi Zhuang Autonomous Region     869 Holmes Lakes Apt. 606   \n",
      "563029               Nordrhein-Westfalen               233 Owens Knoll   \n",
      "563030                             Hebei    845 Ramsey Radial Apt. 484   \n",
      "563031                      Jeollanam-do  3593 Hernandez Park Apt. 758   \n",
      "563032                         Grand Est      4392 Kemp Plaza Apt. 590   \n",
      "\n",
      "       postal_code            city      country        latitude  \\\n",
      "0         003-0030         Sapporo        Japan   4.303.853.579   \n",
      "1         007-0890         Sapporo        Japan   4.313.656.452   \n",
      "2        02220-000      SÃ£o Paulo       Brasil  -2.348.476.114   \n",
      "3        02675-031      SÃ£o Paulo       Brasil  -2.347.256.155   \n",
      "4        02675-031      SÃ£o Paulo       Brasil  -2.347.256.155   \n",
      "...            ...             ...          ...             ...   \n",
      "563028      537500          Xiamen        China   2.286.570.829   \n",
      "563029       53757  Sankt Augustin      Germany   5.077.138.924   \n",
      "563030       53899            Heze        China   3.798.892.575   \n",
      "563031     540-850   Suncheon City  South Korea   3.489.878.258   \n",
      "563032       54000           Nancy       France   4.868.889.227   \n",
      "\n",
      "             longitude traffic_source                 created_at  \n",
      "0        1.414.478.828        Display  2022-05-22 02:33:00+00:00  \n",
      "1        1.414.374.334          Email  2020-02-20 01:20:00+00:00  \n",
      "2       -4.657.438.974         Search  2021-08-27 13:52:00+00:00  \n",
      "3       -4.674.656.621       Facebook  2020-05-26 07:42:00+00:00  \n",
      "4       -4.674.656.621         Search  2023-05-22 15:22:00+00:00  \n",
      "...                ...            ...                        ...  \n",
      "563028   1.105.260.168         Search  2021-11-16 12:20:00+00:00  \n",
      "563029   7.189.810.202       Facebook  2023-07-26 04:54:00+00:00  \n",
      "563030   1.155.591.126         Search  2022-06-22 07:16:00+00:00  \n",
      "563031   1.275.447.094         Search  2022-10-10 02:21:00+00:00  \n",
      "563032   6.178.068.283         Search  2023-03-03 09:06:00+00:00  \n",
      "\n",
      "[563033 rows x 18 columns]\n"
     ]
    }
   ],
   "source": [
    "df3 = eventos_clientes.merge(df2, on=\"user_id\", how=\"left\")\n",
    "print(df3)"
   ]
  },
  {
   "cell_type": "code",
   "execution_count": 16,
   "id": "940c74a3-4848-49bf-b7c4-633aabbdce86",
   "metadata": {
    "tags": []
   },
   "outputs": [
    {
     "data": {
      "text/plain": [
       "Index(['id', 'user_id', 'sequence_number', 'event_type', 'first_name',\n",
       "       'last_name', 'email', 'age', 'gender', 'state', 'street_address',\n",
       "       'postal_code', 'city', 'country', 'latitude', 'longitude',\n",
       "       'traffic_source', 'created_at'],\n",
       "      dtype='object')"
      ]
     },
     "execution_count": 16,
     "metadata": {},
     "output_type": "execute_result"
    }
   ],
   "source": [
    "df3.columns\n"
   ]
  },
  {
   "cell_type": "code",
   "execution_count": 17,
   "id": "6cd7e095-40ae-4627-b6c5-d24d8b8fb5e2",
   "metadata": {
    "tags": []
   },
   "outputs": [],
   "source": [
    "df3.to_csv('clientes_completo.csv', index = False, sep = \";\")"
   ]
  }
 ],
 "metadata": {
  "kernelspec": {
   "display_name": "Python 3 (ipykernel)",
   "language": "python",
   "name": "python3"
  },
  "language_info": {
   "codemirror_mode": {
    "name": "ipython",
    "version": 3
   },
   "file_extension": ".py",
   "mimetype": "text/x-python",
   "name": "python",
   "nbconvert_exporter": "python",
   "pygments_lexer": "ipython3",
   "version": "3.11.4"
  }
 },
 "nbformat": 4,
 "nbformat_minor": 5
}
