{
 "cells": [
  {
   "cell_type": "code",
   "execution_count": 1,
   "id": "aa1eb005-a644-44d7-8387-7725febacefd",
   "metadata": {
    "tags": []
   },
   "outputs": [],
   "source": [
    "import pandas as pd\n",
    "import numpy as np"
   ]
  },
  {
   "cell_type": "code",
   "execution_count": 8,
   "id": "8478ef11-0783-433e-95aa-ad9062d6c347",
   "metadata": {
    "tags": []
   },
   "outputs": [
    {
     "data": {
      "text/html": [
       "<div>\n",
       "<style scoped>\n",
       "    .dataframe tbody tr th:only-of-type {\n",
       "        vertical-align: middle;\n",
       "    }\n",
       "\n",
       "    .dataframe tbody tr th {\n",
       "        vertical-align: top;\n",
       "    }\n",
       "\n",
       "    .dataframe thead th {\n",
       "        text-align: right;\n",
       "    }\n",
       "</style>\n",
       "<table border=\"1\" class=\"dataframe\">\n",
       "  <thead>\n",
       "    <tr style=\"text-align: right;\">\n",
       "      <th></th>\n",
       "      <th>id</th>\n",
       "      <th>user_id</th>\n",
       "      <th>sequence_number</th>\n",
       "      <th>session_id</th>\n",
       "      <th>created_at</th>\n",
       "      <th>ip_address</th>\n",
       "      <th>city</th>\n",
       "      <th>state</th>\n",
       "      <th>postal_code</th>\n",
       "      <th>browser</th>\n",
       "      <th>traffic_source</th>\n",
       "      <th>uri</th>\n",
       "      <th>event_type</th>\n",
       "    </tr>\n",
       "  </thead>\n",
       "  <tbody>\n",
       "    <tr>\n",
       "      <th>0</th>\n",
       "      <td>2198523</td>\n",
       "      <td>NaN</td>\n",
       "      <td>3</td>\n",
       "      <td>83889ed2-2adc-4b9a-af5d-154f6998e778</td>\n",
       "      <td>2021-06-17 17:30:00+00:00</td>\n",
       "      <td>138.143.9.202</td>\n",
       "      <td>São Paulo</td>\n",
       "      <td>São Paulo</td>\n",
       "      <td>02675-031</td>\n",
       "      <td>Chrome</td>\n",
       "      <td>Adwords</td>\n",
       "      <td>/cancel</td>\n",
       "      <td>cancel</td>\n",
       "    </tr>\n",
       "    <tr>\n",
       "      <th>1</th>\n",
       "      <td>1773216</td>\n",
       "      <td>NaN</td>\n",
       "      <td>3</td>\n",
       "      <td>7a3fc3f2-e84f-44fe-8876-eff76741f7a3</td>\n",
       "      <td>2020-08-07 08:41:00+00:00</td>\n",
       "      <td>85.114.141.79</td>\n",
       "      <td>Santa Isabel</td>\n",
       "      <td>São Paulo</td>\n",
       "      <td>07500-000</td>\n",
       "      <td>Safari</td>\n",
       "      <td>Adwords</td>\n",
       "      <td>/cancel</td>\n",
       "      <td>cancel</td>\n",
       "    </tr>\n",
       "    <tr>\n",
       "      <th>2</th>\n",
       "      <td>2380515</td>\n",
       "      <td>NaN</td>\n",
       "      <td>3</td>\n",
       "      <td>13d9b2fb-eee1-43fd-965c-267b38dd7125</td>\n",
       "      <td>2021-02-15 18:48:00+00:00</td>\n",
       "      <td>169.250.255.132</td>\n",
       "      <td>Mairiporã</td>\n",
       "      <td>São Paulo</td>\n",
       "      <td>07600-000</td>\n",
       "      <td>IE</td>\n",
       "      <td>Adwords</td>\n",
       "      <td>/cancel</td>\n",
       "      <td>cancel</td>\n",
       "    </tr>\n",
       "    <tr>\n",
       "      <th>3</th>\n",
       "      <td>2250597</td>\n",
       "      <td>NaN</td>\n",
       "      <td>3</td>\n",
       "      <td>96f1d44e-9621-463c-954c-d8deb7fffe7f</td>\n",
       "      <td>2022-03-30 10:56:00+00:00</td>\n",
       "      <td>137.25.222.160</td>\n",
       "      <td>Cajamar</td>\n",
       "      <td>São Paulo</td>\n",
       "      <td>07750-000</td>\n",
       "      <td>Chrome</td>\n",
       "      <td>Adwords</td>\n",
       "      <td>/cancel</td>\n",
       "      <td>cancel</td>\n",
       "    </tr>\n",
       "    <tr>\n",
       "      <th>4</th>\n",
       "      <td>1834446</td>\n",
       "      <td>NaN</td>\n",
       "      <td>3</td>\n",
       "      <td>d09dce10-a7cb-47d3-a9af-44975566fa03</td>\n",
       "      <td>2019-09-05 01:18:00+00:00</td>\n",
       "      <td>161.114.4.174</td>\n",
       "      <td>São Paulo</td>\n",
       "      <td>São Paulo</td>\n",
       "      <td>09581-680</td>\n",
       "      <td>Chrome</td>\n",
       "      <td>Email</td>\n",
       "      <td>/cancel</td>\n",
       "      <td>cancel</td>\n",
       "    </tr>\n",
       "  </tbody>\n",
       "</table>\n",
       "</div>"
      ],
      "text/plain": [
       "        id  user_id  sequence_number                            session_id  \\\n",
       "0  2198523      NaN                3  83889ed2-2adc-4b9a-af5d-154f6998e778   \n",
       "1  1773216      NaN                3  7a3fc3f2-e84f-44fe-8876-eff76741f7a3   \n",
       "2  2380515      NaN                3  13d9b2fb-eee1-43fd-965c-267b38dd7125   \n",
       "3  2250597      NaN                3  96f1d44e-9621-463c-954c-d8deb7fffe7f   \n",
       "4  1834446      NaN                3  d09dce10-a7cb-47d3-a9af-44975566fa03   \n",
       "\n",
       "                  created_at       ip_address          city      state  \\\n",
       "0  2021-06-17 17:30:00+00:00    138.143.9.202     São Paulo  São Paulo   \n",
       "1  2020-08-07 08:41:00+00:00    85.114.141.79  Santa Isabel  São Paulo   \n",
       "2  2021-02-15 18:48:00+00:00  169.250.255.132     Mairiporã  São Paulo   \n",
       "3  2022-03-30 10:56:00+00:00   137.25.222.160       Cajamar  São Paulo   \n",
       "4  2019-09-05 01:18:00+00:00    161.114.4.174     São Paulo  São Paulo   \n",
       "\n",
       "  postal_code browser traffic_source      uri event_type  \n",
       "0   02675-031  Chrome        Adwords  /cancel     cancel  \n",
       "1   07500-000  Safari        Adwords  /cancel     cancel  \n",
       "2   07600-000      IE        Adwords  /cancel     cancel  \n",
       "3   07750-000  Chrome        Adwords  /cancel     cancel  \n",
       "4   09581-680  Chrome          Email  /cancel     cancel  "
      ]
     },
     "execution_count": 8,
     "metadata": {},
     "output_type": "execute_result"
    }
   ],
   "source": [
    "df = pd.read_csv((\"events.csv\"), header=0, sep=\";\")\n",
    "df.head(5)"
   ]
  },
  {
   "cell_type": "code",
   "execution_count": 9,
   "id": "a8188a1b-a777-4de0-85ee-84e71dd48bc4",
   "metadata": {
    "tags": []
   },
   "outputs": [
    {
     "data": {
      "text/plain": [
       "id                      0\n",
       "user_id            485542\n",
       "sequence_number         0\n",
       "session_id              0\n",
       "created_at              0\n",
       "ip_address              0\n",
       "city                 9931\n",
       "state                   0\n",
       "postal_code             0\n",
       "browser                 0\n",
       "traffic_source          0\n",
       "uri                     0\n",
       "event_type             21\n",
       "dtype: int64"
      ]
     },
     "execution_count": 9,
     "metadata": {},
     "output_type": "execute_result"
    }
   ],
   "source": [
    "# Valores nulos\n",
    "df.isnull().sum()"
   ]
  },
  {
   "cell_type": "code",
   "execution_count": 10,
   "id": "ee464e04-914c-4020-9647-c8510252dad7",
   "metadata": {
    "tags": []
   },
   "outputs": [],
   "source": [
    "df[\"user_id\"] = df[\"user_id\"].fillna(\"Sin_user_id\")\n",
    "df[\"city\"] = df[\"city\"].fillna(\"Sin_city\")"
   ]
  },
  {
   "cell_type": "code",
   "execution_count": 11,
   "id": "01f942d0-1e13-4b9e-89ee-fdf9a5780ba2",
   "metadata": {
    "tags": []
   },
   "outputs": [
    {
     "data": {
      "text/plain": [
       "id                  0\n",
       "user_id             0\n",
       "sequence_number     0\n",
       "session_id          0\n",
       "created_at          0\n",
       "ip_address          0\n",
       "city                0\n",
       "state               0\n",
       "postal_code         0\n",
       "browser             0\n",
       "traffic_source      0\n",
       "uri                 0\n",
       "event_type         21\n",
       "dtype: int64"
      ]
     },
     "execution_count": 11,
     "metadata": {},
     "output_type": "execute_result"
    }
   ],
   "source": [
    "# Valores nulos\n",
    "df.isnull().sum()"
   ]
  },
  {
   "cell_type": "code",
   "execution_count": 12,
   "id": "aaeac0ea-569e-46f0-8a0d-ef7bc6c4fdcd",
   "metadata": {},
   "outputs": [],
   "source": [
    "df.to_csv('Eventos sin nulos.csv', index = False, sep = \";\")"
   ]
  },
  {
   "cell_type": "code",
   "execution_count": null,
   "id": "37380fe1-adbd-4cad-99d5-1bb32629ff73",
   "metadata": {},
   "outputs": [],
   "source": []
  }
 ],
 "metadata": {
  "kernelspec": {
   "display_name": "Python 3 (ipykernel)",
   "language": "python",
   "name": "python3"
  },
  "language_info": {
   "codemirror_mode": {
    "name": "ipython",
    "version": 3
   },
   "file_extension": ".py",
   "mimetype": "text/x-python",
   "name": "python",
   "nbconvert_exporter": "python",
   "pygments_lexer": "ipython3",
   "version": "3.11.4"
  }
 },
 "nbformat": 4,
 "nbformat_minor": 5
}
