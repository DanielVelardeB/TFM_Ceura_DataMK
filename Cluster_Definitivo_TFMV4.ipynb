{
 "cells": [
  {
   "cell_type": "code",
   "execution_count": 1,
   "id": "db978a85",
   "metadata": {
    "tags": []
   },
   "outputs": [],
   "source": [
    "#Importamos todas las librerías necesarias\n",
    "\n",
    "import pandas as pd\n",
    "import numpy as np\n",
    "\n",
    "import seaborn as sns\n",
    "import matplotlib.pyplot as plt\n",
    "\n",
    "from sklearn.preprocessing import PowerTransformer, StandardScaler\n",
    "from sklearn.cluster import KMeans\n",
    "\n",
    "from scipy.stats import boxcox, probplot, norm, shapiro\n",
    "\n",
    "import os\n",
    "import warnings\n",
    "warnings.filterwarnings('ignore')"
   ]
  },
  {
   "cell_type": "code",
   "execution_count": 2,
   "id": "cee5f0eb",
   "metadata": {
    "tags": []
   },
   "outputs": [],
   "source": [
    "#Defininmos las función que luego nos servirá para comprobar la normalidad de nuestras variables numéricas.\n",
    "\n",
    "def comprueba_normalidad(df, return_type='axes', title='Comprobación de normalidad'):\n",
    "    '''\n",
    "    Esta función genera automáticamente un dataframe el shapiro test de las variables numéricas\n",
    "     así como las gráficas referentes a la QQ-plot de cada variable\n",
    "    '''\n",
    "    fig_tot = (len(df.columns))\n",
    "    fig_por_fila = 3\n",
    "    tamanio_fig  = 4\n",
    "    num_filas = int( np.ceil(fig_tot/fig_por_fila) )    \n",
    "    plt.figure( figsize=( fig_por_fila*tamanio_fig+5, num_filas*tamanio_fig+2 ) )\n",
    "    c = 0 \n",
    "    shapiro_test = {}\n",
    "    lambdas = {}\n",
    "    for i, col in enumerate(df.columns):\n",
    "        ax = plt.subplot(num_filas, fig_por_fila, i+1)\n",
    "        probplot(x = df[df.columns[i]], dist=norm, plot=ax)\n",
    "        plt.title(df.columns[i])\n",
    "        shapiro_test[df.columns[i]] = shapiro(df[df.columns[i]])\n",
    "    plt.suptitle(title)\n",
    "    plt.show()\n",
    "    shapiro_test = pd.DataFrame(shapiro_test, index=['Test Statistic', 'p-value']).transpose()\n",
    "    return shapiro_test\n",
    "\n"
   ]
  },
  {
   "cell_type": "code",
   "execution_count": 3,
   "id": "5bb82030",
   "metadata": {
    "tags": []
   },
   "outputs": [
    {
     "data": {
      "text/html": [
       "<div>\n",
       "<style scoped>\n",
       "    .dataframe tbody tr th:only-of-type {\n",
       "        vertical-align: middle;\n",
       "    }\n",
       "\n",
       "    .dataframe tbody tr th {\n",
       "        vertical-align: top;\n",
       "    }\n",
       "\n",
       "    .dataframe thead th {\n",
       "        text-align: right;\n",
       "    }\n",
       "</style>\n",
       "<table border=\"1\" class=\"dataframe\">\n",
       "  <thead>\n",
       "    <tr style=\"text-align: right;\">\n",
       "      <th></th>\n",
       "      <th>id</th>\n",
       "      <th>user_id</th>\n",
       "      <th>sequence_number</th>\n",
       "      <th>event_type</th>\n",
       "      <th>first_name</th>\n",
       "      <th>last_name</th>\n",
       "      <th>email</th>\n",
       "      <th>age</th>\n",
       "      <th>gender</th>\n",
       "      <th>state</th>\n",
       "      <th>street_address</th>\n",
       "      <th>postal_code</th>\n",
       "      <th>city</th>\n",
       "      <th>country</th>\n",
       "      <th>latitude</th>\n",
       "      <th>longitude</th>\n",
       "      <th>traffic_source</th>\n",
       "      <th>created_at</th>\n",
       "    </tr>\n",
       "  </thead>\n",
       "  <tbody>\n",
       "    <tr>\n",
       "      <th>0</th>\n",
       "      <td>6089.0</td>\n",
       "      <td>457</td>\n",
       "      <td>3.0</td>\n",
       "      <td>product</td>\n",
       "      <td>Timothy</td>\n",
       "      <td>Bush</td>\n",
       "      <td>timothybush@example.net</td>\n",
       "      <td>65</td>\n",
       "      <td>M</td>\n",
       "      <td>Acre</td>\n",
       "      <td>87620 Johnson Hills</td>\n",
       "      <td>69917-400</td>\n",
       "      <td>Rio Branco</td>\n",
       "      <td>Brasil</td>\n",
       "      <td>-9.945568</td>\n",
       "      <td>-67.83561</td>\n",
       "      <td>Search</td>\n",
       "      <td>2022-07-19 13:51:00+00:00</td>\n",
       "    </tr>\n",
       "    <tr>\n",
       "      <th>1</th>\n",
       "      <td>6091.0</td>\n",
       "      <td>457</td>\n",
       "      <td>5.0</td>\n",
       "      <td>purchase</td>\n",
       "      <td>Timothy</td>\n",
       "      <td>Bush</td>\n",
       "      <td>timothybush@example.net</td>\n",
       "      <td>65</td>\n",
       "      <td>M</td>\n",
       "      <td>Acre</td>\n",
       "      <td>87620 Johnson Hills</td>\n",
       "      <td>69917-400</td>\n",
       "      <td>Rio Branco</td>\n",
       "      <td>Brasil</td>\n",
       "      <td>-9.945568</td>\n",
       "      <td>-67.83561</td>\n",
       "      <td>Search</td>\n",
       "      <td>2022-07-19 13:51:00+00:00</td>\n",
       "    </tr>\n",
       "    <tr>\n",
       "      <th>2</th>\n",
       "      <td>6090.0</td>\n",
       "      <td>457</td>\n",
       "      <td>4.0</td>\n",
       "      <td>cart</td>\n",
       "      <td>Timothy</td>\n",
       "      <td>Bush</td>\n",
       "      <td>timothybush@example.net</td>\n",
       "      <td>65</td>\n",
       "      <td>M</td>\n",
       "      <td>Acre</td>\n",
       "      <td>87620 Johnson Hills</td>\n",
       "      <td>69917-400</td>\n",
       "      <td>Rio Branco</td>\n",
       "      <td>Brasil</td>\n",
       "      <td>-9.945568</td>\n",
       "      <td>-67.83561</td>\n",
       "      <td>Search</td>\n",
       "      <td>2022-07-19 13:51:00+00:00</td>\n",
       "    </tr>\n",
       "    <tr>\n",
       "      <th>3</th>\n",
       "      <td>6087.0</td>\n",
       "      <td>457</td>\n",
       "      <td>1.0</td>\n",
       "      <td>home</td>\n",
       "      <td>Timothy</td>\n",
       "      <td>Bush</td>\n",
       "      <td>timothybush@example.net</td>\n",
       "      <td>65</td>\n",
       "      <td>M</td>\n",
       "      <td>Acre</td>\n",
       "      <td>87620 Johnson Hills</td>\n",
       "      <td>69917-400</td>\n",
       "      <td>Rio Branco</td>\n",
       "      <td>Brasil</td>\n",
       "      <td>-9.945568</td>\n",
       "      <td>-67.83561</td>\n",
       "      <td>Search</td>\n",
       "      <td>2022-07-19 13:51:00+00:00</td>\n",
       "    </tr>\n",
       "    <tr>\n",
       "      <th>4</th>\n",
       "      <td>6088.0</td>\n",
       "      <td>457</td>\n",
       "      <td>2.0</td>\n",
       "      <td>department</td>\n",
       "      <td>Timothy</td>\n",
       "      <td>Bush</td>\n",
       "      <td>timothybush@example.net</td>\n",
       "      <td>65</td>\n",
       "      <td>M</td>\n",
       "      <td>Acre</td>\n",
       "      <td>87620 Johnson Hills</td>\n",
       "      <td>69917-400</td>\n",
       "      <td>Rio Branco</td>\n",
       "      <td>Brasil</td>\n",
       "      <td>-9.945568</td>\n",
       "      <td>-67.83561</td>\n",
       "      <td>Search</td>\n",
       "      <td>2022-07-19 13:51:00+00:00</td>\n",
       "    </tr>\n",
       "  </tbody>\n",
       "</table>\n",
       "</div>"
      ],
      "text/plain": [
       "       id  user_id  sequence_number  event_type first_name last_name  \\\n",
       "0  6089.0      457              3.0     product    Timothy      Bush   \n",
       "1  6091.0      457              5.0    purchase    Timothy      Bush   \n",
       "2  6090.0      457              4.0        cart    Timothy      Bush   \n",
       "3  6087.0      457              1.0        home    Timothy      Bush   \n",
       "4  6088.0      457              2.0  department    Timothy      Bush   \n",
       "\n",
       "                     email  age gender state       street_address postal_code  \\\n",
       "0  timothybush@example.net   65      M  Acre  87620 Johnson Hills   69917-400   \n",
       "1  timothybush@example.net   65      M  Acre  87620 Johnson Hills   69917-400   \n",
       "2  timothybush@example.net   65      M  Acre  87620 Johnson Hills   69917-400   \n",
       "3  timothybush@example.net   65      M  Acre  87620 Johnson Hills   69917-400   \n",
       "4  timothybush@example.net   65      M  Acre  87620 Johnson Hills   69917-400   \n",
       "\n",
       "         city country  latitude  longitude traffic_source  \\\n",
       "0  Rio Branco  Brasil -9.945568  -67.83561         Search   \n",
       "1  Rio Branco  Brasil -9.945568  -67.83561         Search   \n",
       "2  Rio Branco  Brasil -9.945568  -67.83561         Search   \n",
       "3  Rio Branco  Brasil -9.945568  -67.83561         Search   \n",
       "4  Rio Branco  Brasil -9.945568  -67.83561         Search   \n",
       "\n",
       "                  created_at  \n",
       "0  2022-07-19 13:51:00+00:00  \n",
       "1  2022-07-19 13:51:00+00:00  \n",
       "2  2022-07-19 13:51:00+00:00  \n",
       "3  2022-07-19 13:51:00+00:00  \n",
       "4  2022-07-19 13:51:00+00:00  "
      ]
     },
     "metadata": {},
     "output_type": "display_data"
    }
   ],
   "source": [
    "#Importamos nuestro fichero clientes completo ya tratado\n",
    "clientes_df = pd.read_csv(\"Clientes completo2.csv\", header=0, sep=\";\")\n",
    "display(clientes_df.head(5))\n"
   ]
  },
  {
   "cell_type": "code",
   "execution_count": 4,
   "id": "43051db0",
   "metadata": {
    "tags": []
   },
   "outputs": [
    {
     "name": "stdout",
     "output_type": "stream",
     "text": [
      "<class 'pandas.core.frame.DataFrame'>\n",
      "RangeIndex: 1326248 entries, 0 to 1326247\n",
      "Data columns (total 18 columns):\n",
      " #   Column           Non-Null Count    Dtype  \n",
      "---  ------           --------------    -----  \n",
      " 0   id               1306292 non-null  float64\n",
      " 1   user_id          1326248 non-null  int64  \n",
      " 2   sequence_number  1306292 non-null  float64\n",
      " 3   event_type       1306292 non-null  object \n",
      " 4   first_name       1326248 non-null  object \n",
      " 5   last_name        1326248 non-null  object \n",
      " 6   email            1326248 non-null  object \n",
      " 7   age              1326248 non-null  int64  \n",
      " 8   gender           1326248 non-null  object \n",
      " 9   state            1326248 non-null  object \n",
      " 10  street_address   1326248 non-null  object \n",
      " 11  postal_code      1326248 non-null  object \n",
      " 12  city             1313875 non-null  object \n",
      " 13  country          1326248 non-null  object \n",
      " 14  latitude         1326248 non-null  float64\n",
      " 15  longitude        1326248 non-null  float64\n",
      " 16  traffic_source   1326248 non-null  object \n",
      " 17  created_at       1326248 non-null  object \n",
      "dtypes: float64(4), int64(2), object(12)\n",
      "memory usage: 182.1+ MB\n"
     ]
    }
   ],
   "source": [
    "#Revisamos tipos de datos\n",
    "clientes_df.info()"
   ]
  },
  {
   "cell_type": "code",
   "execution_count": 5,
   "id": "92f98807",
   "metadata": {
    "tags": []
   },
   "outputs": [
    {
     "data": {
      "text/plain": [
       "Index(['id', 'user_id', 'sequence_number', 'event_type', 'first_name',\n",
       "       'last_name', 'email', 'age', 'gender', 'state', 'street_address',\n",
       "       'postal_code', 'city', 'country', 'latitude', 'longitude',\n",
       "       'traffic_source', 'created_at'],\n",
       "      dtype='object')"
      ]
     },
     "execution_count": 5,
     "metadata": {},
     "output_type": "execute_result"
    }
   ],
   "source": [
    "clientes_df.columns"
   ]
  },
  {
   "cell_type": "code",
   "execution_count": 6,
   "id": "439e45bc",
   "metadata": {
    "tags": []
   },
   "outputs": [
    {
     "data": {
      "text/plain": [
       "Shanghai             33535\n",
       "Beijing              30136\n",
       "Seoul                19652\n",
       "Shenzhen             18229\n",
       "Dongguan             12644\n",
       "                     ...  \n",
       "Canteleu                 1\n",
       "Kelsterbach              1\n",
       "Le Fidelaire             1\n",
       "Noosa North Shore        1\n",
       "Sandy Creek              1\n",
       "Name: city, Length: 7883, dtype: int64"
      ]
     },
     "execution_count": 6,
     "metadata": {},
     "output_type": "execute_result"
    }
   ],
   "source": [
    "clientes_df[\"city\"].value_counts()\n"
   ]
  },
  {
   "cell_type": "code",
   "execution_count": 7,
   "id": "3a5adc7f",
   "metadata": {
    "tags": []
   },
   "outputs": [
    {
     "data": {
      "text/plain": [
       "China             459282\n",
       "United States     294302\n",
       "Brasil            192568\n",
       "South Korea        69580\n",
       "France             62179\n",
       "United Kingdom     61024\n",
       "Germany            56548\n",
       "Spain              52992\n",
       "Japan              31817\n",
       "Australia          27309\n",
       "Belgium            15029\n",
       "Poland              3455\n",
       "Colombia             126\n",
       "España                21\n",
       "Austria               10\n",
       "Deutschland            6\n",
       "Name: country, dtype: int64"
      ]
     },
     "execution_count": 7,
     "metadata": {},
     "output_type": "execute_result"
    }
   ],
   "source": [
    "clientes_df[\"country\"].value_counts()"
   ]
  },
  {
   "cell_type": "code",
   "execution_count": 8,
   "id": "becf9d77",
   "metadata": {
    "tags": []
   },
   "outputs": [],
   "source": [
    "#Cambiamos el valor \"EspaÃ±a\" por\"Spain\"\n",
    "clientes_df[\"country\"]=clientes_df[\"country\"].replace(\"EspaÃ±a\",\"Spain\")"
   ]
  },
  {
   "cell_type": "code",
   "execution_count": 9,
   "id": "e443e3ed",
   "metadata": {
    "tags": []
   },
   "outputs": [
    {
     "data": {
      "text/plain": [
       "China             459282\n",
       "United States     294302\n",
       "Brasil            192568\n",
       "South Korea        69580\n",
       "France             62179\n",
       "United Kingdom     61024\n",
       "Germany            56548\n",
       "Spain              52992\n",
       "Japan              31817\n",
       "Australia          27309\n",
       "Belgium            15029\n",
       "Poland              3455\n",
       "Colombia             126\n",
       "España                21\n",
       "Austria               10\n",
       "Deutschland            6\n",
       "Name: country, dtype: int64"
      ]
     },
     "execution_count": 9,
     "metadata": {},
     "output_type": "execute_result"
    }
   ],
   "source": [
    "clientes_df[\"country\"].value_counts()"
   ]
  },
  {
   "cell_type": "code",
   "execution_count": 10,
   "id": "2a43341b",
   "metadata": {
    "tags": []
   },
   "outputs": [
    {
     "data": {
      "text/plain": [
       "Search      928793\n",
       "Organic     200694\n",
       "Facebook     76343\n",
       "Email        66934\n",
       "Display      53484\n",
       "Name: traffic_source, dtype: int64"
      ]
     },
     "execution_count": 10,
     "metadata": {},
     "output_type": "execute_result"
    }
   ],
   "source": [
    "clientes_df[\"traffic_source\"].value_counts()"
   ]
  },
  {
   "cell_type": "code",
   "execution_count": 11,
   "id": "96d59741",
   "metadata": {
    "tags": []
   },
   "outputs": [
    {
     "data": {
      "text/plain": [
       "product       345607\n",
       "cart          345607\n",
       "department    345607\n",
       "purchase      181759\n",
       "home           87712\n",
       "Name: event_type, dtype: int64"
      ]
     },
     "execution_count": 11,
     "metadata": {},
     "output_type": "execute_result"
    }
   ],
   "source": [
    "clientes_df[\"event_type\"].value_counts()"
   ]
  },
  {
   "cell_type": "code",
   "execution_count": 12,
   "id": "86eeacac",
   "metadata": {
    "tags": []
   },
   "outputs": [
    {
     "data": {
      "text/plain": [
       "F    664276\n",
       "M    661972\n",
       "Name: gender, dtype: int64"
      ]
     },
     "execution_count": 12,
     "metadata": {},
     "output_type": "execute_result"
    }
   ],
   "source": [
    "clientes_df[\"gender\"].value_counts()"
   ]
  },
  {
   "cell_type": "code",
   "execution_count": 13,
   "id": "5ea642f3",
   "metadata": {
    "tags": []
   },
   "outputs": [
    {
     "data": {
      "text/plain": [
       "id                 1.504696\n",
       "user_id            0.000000\n",
       "sequence_number    1.504696\n",
       "event_type         1.504696\n",
       "first_name         0.000000\n",
       "last_name          0.000000\n",
       "email              0.000000\n",
       "age                0.000000\n",
       "gender             0.000000\n",
       "state              0.000000\n",
       "street_address     0.000000\n",
       "postal_code        0.000000\n",
       "city               0.932933\n",
       "country            0.000000\n",
       "latitude           0.000000\n",
       "longitude          0.000000\n",
       "traffic_source     0.000000\n",
       "created_at         0.000000\n",
       "dtype: float64"
      ]
     },
     "execution_count": 13,
     "metadata": {},
     "output_type": "execute_result"
    }
   ],
   "source": [
    "clientes_df.isnull().sum() / len(clientes_df) * 100"
   ]
  },
  {
   "cell_type": "code",
   "execution_count": 14,
   "id": "3040c704",
   "metadata": {
    "tags": []
   },
   "outputs": [],
   "source": [
    "#llamamos Desconocido a la city sin valor en la tabla\n",
    "clientes_df[\"city\"].fillna(\"Desconocido\",inplace=True)"
   ]
  },
  {
   "cell_type": "code",
   "execution_count": 14,
   "id": "2ee71858-f1df-493c-ae66-db0bccbe1f84",
   "metadata": {
    "tags": []
   },
   "outputs": [],
   "source": [
    "#llamamos 0 event_type desconocido \n",
    "clientes_df[\"event_type\"].fillna(0,inplace=True)"
   ]
  },
  {
   "cell_type": "code",
   "execution_count": 15,
   "id": "b6b28489-6a5f-4a51-a84a-fa45e8dd1d3a",
   "metadata": {
    "tags": []
   },
   "outputs": [],
   "source": [
    "#llamamos 0 sequence_number desconocido \n",
    "clientes_df[\"sequence_number\"].fillna(0,inplace=True)"
   ]
  },
  {
   "cell_type": "code",
   "execution_count": 16,
   "id": "ccad3adf",
   "metadata": {
    "tags": []
   },
   "outputs": [
    {
     "data": {
      "text/plain": [
       "id                 1.504696\n",
       "user_id            0.000000\n",
       "sequence_number    0.000000\n",
       "event_type         0.000000\n",
       "first_name         0.000000\n",
       "last_name          0.000000\n",
       "email              0.000000\n",
       "age                0.000000\n",
       "gender             0.000000\n",
       "state              0.000000\n",
       "street_address     0.000000\n",
       "postal_code        0.000000\n",
       "city               0.932933\n",
       "country            0.000000\n",
       "latitude           0.000000\n",
       "longitude          0.000000\n",
       "traffic_source     0.000000\n",
       "created_at         0.000000\n",
       "dtype: float64"
      ]
     },
     "execution_count": 16,
     "metadata": {},
     "output_type": "execute_result"
    }
   ],
   "source": [
    "clientes_df.isnull().sum() / len(clientes_df) * 100"
   ]
  },
  {
   "cell_type": "code",
   "execution_count": 17,
   "id": "f064e4d8",
   "metadata": {
    "tags": []
   },
   "outputs": [],
   "source": [
    "#extraemos de la tabla aquellas variables que no nos interesan en este momento\n",
    "clientes_df.drop([\"id\",\"first_name\",\"last_name\",\"email\",\"state\",\"latitude\",\"street_address\",\"longitude\",\"postal_code\",\"city\",\"created_at\"], axis=1, inplace=True)"
   ]
  },
  {
   "cell_type": "code",
   "execution_count": 18,
   "id": "338afcc7-3eaf-42ba-9d04-16f18bd200b9",
   "metadata": {
    "tags": []
   },
   "outputs": [
    {
     "name": "stdout",
     "output_type": "stream",
     "text": [
      "<class 'pandas.core.frame.DataFrame'>\n",
      "RangeIndex: 1326248 entries, 0 to 1326247\n",
      "Data columns (total 7 columns):\n",
      " #   Column           Non-Null Count    Dtype  \n",
      "---  ------           --------------    -----  \n",
      " 0   user_id          1326248 non-null  int64  \n",
      " 1   sequence_number  1326248 non-null  float64\n",
      " 2   event_type       1326248 non-null  object \n",
      " 3   age              1326248 non-null  int64  \n",
      " 4   gender           1326248 non-null  object \n",
      " 5   country          1326248 non-null  object \n",
      " 6   traffic_source   1326248 non-null  object \n",
      "dtypes: float64(1), int64(2), object(4)\n",
      "memory usage: 70.8+ MB\n"
     ]
    }
   ],
   "source": [
    "clientes_df.info()"
   ]
  },
  {
   "cell_type": "code",
   "execution_count": 19,
   "id": "da85f336",
   "metadata": {
    "tags": []
   },
   "outputs": [
    {
     "data": {
      "text/html": [
       "<div>\n",
       "<style scoped>\n",
       "    .dataframe tbody tr th:only-of-type {\n",
       "        vertical-align: middle;\n",
       "    }\n",
       "\n",
       "    .dataframe tbody tr th {\n",
       "        vertical-align: top;\n",
       "    }\n",
       "\n",
       "    .dataframe thead th {\n",
       "        text-align: right;\n",
       "    }\n",
       "</style>\n",
       "<table border=\"1\" class=\"dataframe\">\n",
       "  <thead>\n",
       "    <tr style=\"text-align: right;\">\n",
       "      <th></th>\n",
       "      <th>user_id</th>\n",
       "      <th>sequence_number</th>\n",
       "      <th>event_type</th>\n",
       "      <th>age</th>\n",
       "      <th>gender</th>\n",
       "      <th>country</th>\n",
       "      <th>traffic_source</th>\n",
       "    </tr>\n",
       "  </thead>\n",
       "  <tbody>\n",
       "    <tr>\n",
       "      <th>0</th>\n",
       "      <td>457</td>\n",
       "      <td>3.0</td>\n",
       "      <td>product</td>\n",
       "      <td>65</td>\n",
       "      <td>M</td>\n",
       "      <td>Brasil</td>\n",
       "      <td>Search</td>\n",
       "    </tr>\n",
       "  </tbody>\n",
       "</table>\n",
       "</div>"
      ],
      "text/plain": [
       "   user_id  sequence_number event_type  age gender country traffic_source\n",
       "0      457              3.0    product   65      M  Brasil         Search"
      ]
     },
     "metadata": {},
     "output_type": "display_data"
    }
   ],
   "source": [
    "#Comprobamos con las que nos hemos quedado\n",
    "display(clientes_df.head(1))"
   ]
  },
  {
   "cell_type": "code",
   "execution_count": 20,
   "id": "b3e15c9f",
   "metadata": {
    "tags": []
   },
   "outputs": [],
   "source": [
    "clientes_clusterizado=clientes_df.copy()"
   ]
  },
  {
   "cell_type": "code",
   "execution_count": 21,
   "id": "0d24950e-96c8-4448-b3d9-260f57475e34",
   "metadata": {
    "tags": []
   },
   "outputs": [],
   "source": [
    "clientes_clusterizado.drop([\"user_id\"], axis=1, inplace=True)"
   ]
  },
  {
   "cell_type": "code",
   "execution_count": 24,
   "id": "d4d32777-05c1-40e1-9e5c-c3f8daf36dc4",
   "metadata": {
    "tags": []
   },
   "outputs": [],
   "source": [
    "clientes_clusterizado.drop([\"sequence_number\"], axis=1, inplace=True)"
   ]
  },
  {
   "cell_type": "code",
   "execution_count": 25,
   "id": "56d69f31",
   "metadata": {
    "tags": []
   },
   "outputs": [
    {
     "data": {
      "text/plain": [
       "Index(['age'], dtype='object')"
      ]
     },
     "execution_count": 25,
     "metadata": {},
     "output_type": "execute_result"
    }
   ],
   "source": [
    "#definimos las variables numéricas\n",
    "numeric = clientes_clusterizado.select_dtypes(exclude=\"object\")\n",
    "var_numericas = numeric.columns\n",
    "var_numericas"
   ]
  },
  {
   "cell_type": "code",
   "execution_count": 26,
   "id": "c66b29e0",
   "metadata": {
    "tags": []
   },
   "outputs": [
    {
     "name": "stdout",
     "output_type": "stream",
     "text": [
      "Valor de test=0.948, p-value=0.000\n",
      "La variable  age  no proviene de una distribución normal (rechazamos H0), por lo tanto H1 \n",
      "\n"
     ]
    }
   ],
   "source": [
    "#comprobamos su normalización con la función definida al comienzo\n",
    "from scipy.stats import shapiro\n",
    "\n",
    "for columna_numerica  in var_numericas:\n",
    "    # Aplicamos shapiro\n",
    "    stat, p = shapiro(clientes_clusterizado[columna_numerica])\n",
    "    \n",
    "    print('Valor de test=%.3f, p-value=%.3f' % (stat, p))\n",
    "    # Interpretación de resultados\n",
    "    alpha = 0.05\n",
    "    if p > alpha:\n",
    "        print('La variable ',columna_numerica, ' proviene de una distribución normal (no rechazamos H0) \\n')\n",
    "    else:\n",
    "        print('La variable ',columna_numerica, ' no proviene de una distribución normal (rechazamos H0), por lo tanto H1 \\n')"
   ]
  },
  {
   "cell_type": "code",
   "execution_count": 27,
   "id": "765fbb29",
   "metadata": {
    "tags": []
   },
   "outputs": [],
   "source": [
    "#Normalizamos las 3 variables con sklearn\n",
    "from sklearn.preprocessing import StandardScaler"
   ]
  },
  {
   "cell_type": "code",
   "execution_count": 28,
   "id": "5d45e8d1",
   "metadata": {
    "tags": []
   },
   "outputs": [],
   "source": [
    "sc = StandardScaler()\n",
    "\n",
    "clientes_clusterizado[var_numericas] = sc.fit_transform(clientes_clusterizado[var_numericas])"
   ]
  },
  {
   "cell_type": "code",
   "execution_count": 29,
   "id": "662571a1",
   "metadata": {
    "tags": []
   },
   "outputs": [
    {
     "data": {
      "text/html": [
       "<div>\n",
       "<style scoped>\n",
       "    .dataframe tbody tr th:only-of-type {\n",
       "        vertical-align: middle;\n",
       "    }\n",
       "\n",
       "    .dataframe tbody tr th {\n",
       "        vertical-align: top;\n",
       "    }\n",
       "\n",
       "    .dataframe thead th {\n",
       "        text-align: right;\n",
       "    }\n",
       "</style>\n",
       "<table border=\"1\" class=\"dataframe\">\n",
       "  <thead>\n",
       "    <tr style=\"text-align: right;\">\n",
       "      <th></th>\n",
       "      <th>event_type</th>\n",
       "      <th>age</th>\n",
       "      <th>gender</th>\n",
       "      <th>country</th>\n",
       "      <th>traffic_source</th>\n",
       "    </tr>\n",
       "  </thead>\n",
       "  <tbody>\n",
       "    <tr>\n",
       "      <th>0</th>\n",
       "      <td>product</td>\n",
       "      <td>1.404705</td>\n",
       "      <td>M</td>\n",
       "      <td>Brasil</td>\n",
       "      <td>Search</td>\n",
       "    </tr>\n",
       "    <tr>\n",
       "      <th>1</th>\n",
       "      <td>purchase</td>\n",
       "      <td>1.404705</td>\n",
       "      <td>M</td>\n",
       "      <td>Brasil</td>\n",
       "      <td>Search</td>\n",
       "    </tr>\n",
       "    <tr>\n",
       "      <th>2</th>\n",
       "      <td>cart</td>\n",
       "      <td>1.404705</td>\n",
       "      <td>M</td>\n",
       "      <td>Brasil</td>\n",
       "      <td>Search</td>\n",
       "    </tr>\n",
       "    <tr>\n",
       "      <th>3</th>\n",
       "      <td>home</td>\n",
       "      <td>1.404705</td>\n",
       "      <td>M</td>\n",
       "      <td>Brasil</td>\n",
       "      <td>Search</td>\n",
       "    </tr>\n",
       "    <tr>\n",
       "      <th>4</th>\n",
       "      <td>department</td>\n",
       "      <td>1.404705</td>\n",
       "      <td>M</td>\n",
       "      <td>Brasil</td>\n",
       "      <td>Search</td>\n",
       "    </tr>\n",
       "    <tr>\n",
       "      <th>...</th>\n",
       "      <td>...</td>\n",
       "      <td>...</td>\n",
       "      <td>...</td>\n",
       "      <td>...</td>\n",
       "      <td>...</td>\n",
       "    </tr>\n",
       "    <tr>\n",
       "      <th>1326243</th>\n",
       "      <td>product</td>\n",
       "      <td>1.522154</td>\n",
       "      <td>F</td>\n",
       "      <td>France</td>\n",
       "      <td>Search</td>\n",
       "    </tr>\n",
       "    <tr>\n",
       "      <th>1326244</th>\n",
       "      <td>cart</td>\n",
       "      <td>1.522154</td>\n",
       "      <td>F</td>\n",
       "      <td>France</td>\n",
       "      <td>Search</td>\n",
       "    </tr>\n",
       "    <tr>\n",
       "      <th>1326245</th>\n",
       "      <td>product</td>\n",
       "      <td>1.522154</td>\n",
       "      <td>F</td>\n",
       "      <td>France</td>\n",
       "      <td>Search</td>\n",
       "    </tr>\n",
       "    <tr>\n",
       "      <th>1326246</th>\n",
       "      <td>department</td>\n",
       "      <td>1.522154</td>\n",
       "      <td>F</td>\n",
       "      <td>France</td>\n",
       "      <td>Search</td>\n",
       "    </tr>\n",
       "    <tr>\n",
       "      <th>1326247</th>\n",
       "      <td>department</td>\n",
       "      <td>1.522154</td>\n",
       "      <td>F</td>\n",
       "      <td>France</td>\n",
       "      <td>Search</td>\n",
       "    </tr>\n",
       "  </tbody>\n",
       "</table>\n",
       "<p>1326248 rows × 5 columns</p>\n",
       "</div>"
      ],
      "text/plain": [
       "         event_type       age gender country traffic_source\n",
       "0           product  1.404705      M  Brasil         Search\n",
       "1          purchase  1.404705      M  Brasil         Search\n",
       "2              cart  1.404705      M  Brasil         Search\n",
       "3              home  1.404705      M  Brasil         Search\n",
       "4        department  1.404705      M  Brasil         Search\n",
       "...             ...       ...    ...     ...            ...\n",
       "1326243     product  1.522154      F  France         Search\n",
       "1326244        cart  1.522154      F  France         Search\n",
       "1326245     product  1.522154      F  France         Search\n",
       "1326246  department  1.522154      F  France         Search\n",
       "1326247  department  1.522154      F  France         Search\n",
       "\n",
       "[1326248 rows x 5 columns]"
      ]
     },
     "execution_count": 29,
     "metadata": {},
     "output_type": "execute_result"
    }
   ],
   "source": [
    "clientes_clusterizado"
   ]
  },
  {
   "cell_type": "code",
   "execution_count": 30,
   "id": "d7399517",
   "metadata": {
    "tags": []
   },
   "outputs": [
    {
     "data": {
      "text/plain": [
       "Index(['event_type', 'age', 'gender', 'country', 'traffic_source'], dtype='object')"
      ]
     },
     "execution_count": 30,
     "metadata": {},
     "output_type": "execute_result"
    }
   ],
   "source": [
    "clientes_clusterizado.columns"
   ]
  },
  {
   "cell_type": "code",
   "execution_count": 31,
   "id": "68cefcb5",
   "metadata": {
    "tags": []
   },
   "outputs": [],
   "source": [
    "clientes_clusterizado = pd.get_dummies(clientes_clusterizado, columns=['gender', \"event_type\" ,'country', 'traffic_source'])"
   ]
  },
  {
   "cell_type": "code",
   "execution_count": 32,
   "id": "d27b08d3",
   "metadata": {
    "tags": []
   },
   "outputs": [
    {
     "data": {
      "text/plain": [
       "Index(['age', 'gender_F', 'gender_M', 'event_type_0', 'event_type_cart',\n",
       "       'event_type_department', 'event_type_home', 'event_type_product',\n",
       "       'event_type_purchase', 'country_Australia', 'country_Austria',\n",
       "       'country_Belgium', 'country_Brasil', 'country_China',\n",
       "       'country_Colombia', 'country_Deutschland', 'country_España',\n",
       "       'country_France', 'country_Germany', 'country_Japan', 'country_Poland',\n",
       "       'country_South Korea', 'country_Spain', 'country_United Kingdom',\n",
       "       'country_United States', 'traffic_source_Display',\n",
       "       'traffic_source_Email', 'traffic_source_Facebook',\n",
       "       'traffic_source_Organic', 'traffic_source_Search'],\n",
       "      dtype='object')"
      ]
     },
     "execution_count": 32,
     "metadata": {},
     "output_type": "execute_result"
    }
   ],
   "source": [
    "clientes_clusterizado.columns"
   ]
  },
  {
   "cell_type": "code",
   "execution_count": 33,
   "id": "f2b60e7a",
   "metadata": {
    "tags": []
   },
   "outputs": [],
   "source": [
    "def plot_dispersion(x, figure_name, max_k = 25):\n",
    "    inertia = []\n",
    "\n",
    "    for k in range(2, max_k):\n",
    "        kmeans = KMeans(n_clusters = k, n_init=10).fit(x)\n",
    "        inertia.append(kmeans.inertia_) \n",
    "\n",
    "    plt.plot(range(2, max_k), inertia, 'bx-')\n",
    "    plt.xlabel('k')\n",
    "    plt.ylabel('Dispersión')\n",
    "    plt.title(figure_name)"
   ]
  },
  {
   "cell_type": "code",
   "execution_count": 34,
   "id": "c21a6283",
   "metadata": {
    "tags": []
   },
   "outputs": [
    {
     "data": {
      "image/png": "[encoded data removed]",
      "text/plain": [
       "<Figure size 640x480 with 1 Axes>"
      ]
     },
     "metadata": {},
     "output_type": "display_data"
    }
   ],
   "source": [
    "#Comprobamos como mostraría la gráfica en caso de elegir 15klusters para ver si encontramos el codo...\n",
    "plot_dispersion(x=clientes_clusterizado, figure_name=\"Elbow con 15K\",max_k=15)"
   ]
  },
  {
   "cell_type": "code",
   "execution_count": 35,
   "id": "dd27a121",
   "metadata": {
    "tags": []
   },
   "outputs": [
    {
     "data": {
      "image/png": "[encoded data removed]",
      "text/plain": [
       "<Figure size 640x480 with 1 Axes>"
      ]
     },
     "metadata": {},
     "output_type": "display_data"
    }
   ],
   "source": [
    "#Ahora con 10 clusters\n",
    "plot_dispersion(x=clientes_clusterizado, figure_name=\"Elbow con 10K\",max_k=10)"
   ]
  },
  {
   "cell_type": "code",
   "execution_count": 36,
   "id": "dd8dc537",
   "metadata": {
    "tags": []
   },
   "outputs": [
    {
     "data": {
      "text/html": [
       "<style>#sk-container-id-1 {color: black;}#sk-container-id-1 pre{padding: 0;}#sk-container-id-1 div.sk-toggleable {background-color: white;}#sk-container-id-1 label.sk-toggleable__label {cursor: pointer;display: block;width: 100%;margin-bottom: 0;padding: 0.3em;box-sizing: border-box;text-align: center;}#sk-container-id-1 label.sk-toggleable__label-arrow:before {content: \"▸\";float: left;margin-right: 0.25em;color: #696969;}#sk-container-id-1 label.sk-toggleable__label-arrow:hover:before {color: black;}#sk-container-id-1 div.sk-estimator:hover label.sk-toggleable__label-arrow:before {color: black;}#sk-container-id-1 div.sk-toggleable__content {max-height: 0;max-width: 0;overflow: hidden;text-align: left;background-color: #f0f8ff;}#sk-container-id-1 div.sk-toggleable__content pre {margin: 0.2em;color: black;border-radius: 0.25em;background-color: #f0f8ff;}#sk-container-id-1 input.sk-toggleable__control:checked~div.sk-toggleable__content {max-height: 200px;max-width: 100%;overflow: auto;}#sk-container-id-1 input.sk-toggleable__control:checked~label.sk-toggleable__label-arrow:before {content: \"▾\";}#sk-container-id-1 div.sk-estimator input.sk-toggleable__control:checked~label.sk-toggleable__label {background-color: #d4ebff;}#sk-container-id-1 div.sk-label input.sk-toggleable__control:checked~label.sk-toggleable__label {background-color: #d4ebff;}#sk-container-id-1 input.sk-hidden--visually {border: 0;clip: rect(1px 1px 1px 1px);clip: rect(1px, 1px, 1px, 1px);height: 1px;margin: -1px;overflow: hidden;padding: 0;position: absolute;width: 1px;}#sk-container-id-1 div.sk-estimator {font-family: monospace;background-color: #f0f8ff;border: 1px dotted black;border-radius: 0.25em;box-sizing: border-box;margin-bottom: 0.5em;}#sk-container-id-1 div.sk-estimator:hover {background-color: #d4ebff;}#sk-container-id-1 div.sk-parallel-item::after {content: \"\";width: 100%;border-bottom: 1px solid gray;flex-grow: 1;}#sk-container-id-1 div.sk-label:hover label.sk-toggleable__label {background-color: #d4ebff;}#sk-container-id-1 div.sk-serial::before {content: \"\";position: absolute;border-left: 1px solid gray;box-sizing: border-box;top: 0;bottom: 0;left: 50%;z-index: 0;}#sk-container-id-1 div.sk-serial {display: flex;flex-direction: column;align-items: center;background-color: white;padding-right: 0.2em;padding-left: 0.2em;position: relative;}#sk-container-id-1 div.sk-item {position: relative;z-index: 1;}#sk-container-id-1 div.sk-parallel {display: flex;align-items: stretch;justify-content: center;background-color: white;position: relative;}#sk-container-id-1 div.sk-item::before, #sk-container-id-1 div.sk-parallel-item::before {content: \"\";position: absolute;border-left: 1px solid gray;box-sizing: border-box;top: 0;bottom: 0;left: 50%;z-index: -1;}#sk-container-id-1 div.sk-parallel-item {display: flex;flex-direction: column;z-index: 1;position: relative;background-color: white;}#sk-container-id-1 div.sk-parallel-item:first-child::after {align-self: flex-end;width: 50%;}#sk-container-id-1 div.sk-parallel-item:last-child::after {align-self: flex-start;width: 50%;}#sk-container-id-1 div.sk-parallel-item:only-child::after {width: 0;}#sk-container-id-1 div.sk-dashed-wrapped {border: 1px dashed gray;margin: 0 0.4em 0.5em 0.4em;box-sizing: border-box;padding-bottom: 0.4em;background-color: white;}#sk-container-id-1 div.sk-label label {font-family: monospace;font-weight: bold;display: inline-block;line-height: 1.2em;}#sk-container-id-1 div.sk-label-container {text-align: center;}#sk-container-id-1 div.sk-container {/* jupyter's `normalize.less` sets `[hidden] { display: none; }` but bootstrap.min.css set `[hidden] { display: none !important; }` so we also need the `!important` here to be able to override the default hidden behavior on the sphinx rendered scikit-learn.org. See: https://github.com/scikit-learn/scikit-learn/issues/21755 */display: inline-block !important;position: relative;}#sk-container-id-1 div.sk-text-repr-fallback {display: none;}</style><div id=\"sk-container-id-1\" class=\"sk-top-container\"><div class=\"sk-text-repr-fallback\"><pre>KMeans(n_clusters=4, n_init=&#x27;auto&#x27;)</pre><b>In a Jupyter environment, please rerun this cell to show the HTML representation or trust the notebook. <br />On GitHub, the HTML representation is unable to render, please try loading this page with nbviewer.org.</b></div><div class=\"sk-container\" hidden><div class=\"sk-item\"><div class=\"sk-estimator sk-toggleable\"><input class=\"sk-toggleable__control sk-hidden--visually\" id=\"sk-estimator-id-1\" type=\"checkbox\" checked><label for=\"sk-estimator-id-1\" class=\"sk-toggleable__label sk-toggleable__label-arrow\">KMeans</label><div class=\"sk-toggleable__content\"><pre>KMeans(n_clusters=4, n_init=&#x27;auto&#x27;)</pre></div></div></div></div></div>"
      ],
      "text/plain": [
       "KMeans(n_clusters=4, n_init='auto')"
      ]
     },
     "execution_count": 36,
     "metadata": {},
     "output_type": "execute_result"
    }
   ],
   "source": [
    "#Parece que el nº de klusters idoneo es 4. Entrenamos KMeans con k = 4\n",
    "model = KMeans(n_clusters=4, n_init=\"auto\")\n",
    "model.fit(clientes_clusterizado)"
   ]
  },
  {
   "cell_type": "code",
   "execution_count": 37,
   "id": "6ee9e0a5",
   "metadata": {
    "tags": []
   },
   "outputs": [],
   "source": [
    "predicciones=model.predict(clientes_clusterizado)"
   ]
  },
  {
   "cell_type": "code",
   "execution_count": 38,
   "id": "6a91c11e",
   "metadata": {
    "tags": []
   },
   "outputs": [
    {
     "name": "stdout",
     "output_type": "stream",
     "text": [
      "primeras predicciones:\n",
      "[0 0 0 0 0 2 3 3 3 3 3 3 3 3 3 3 3 3 3 3]\n"
     ]
    }
   ],
   "source": [
    "print(\"primeras predicciones:\")\n",
    "print(predicciones[:20])"
   ]
  },
  {
   "cell_type": "code",
   "execution_count": 39,
   "id": "acd7dbe6",
   "metadata": {
    "tags": []
   },
   "outputs": [],
   "source": [
    "# Añadimos las predicciones como una nueva columna 'segmento' en el DataFrame\n",
    "clientes_df['segmento'] = predicciones\n",
    "\n"
   ]
  },
  {
   "cell_type": "code",
   "execution_count": 40,
   "id": "e1527cda",
   "metadata": {
    "tags": []
   },
   "outputs": [
    {
     "data": {
      "text/plain": [
       "Index(['user_id', 'sequence_number', 'event_type', 'age', 'gender', 'country',\n",
       "       'traffic_source', 'segmento'],\n",
       "      dtype='object')"
      ]
     },
     "execution_count": 40,
     "metadata": {},
     "output_type": "execute_result"
    }
   ],
   "source": [
    "clientes_df.columns"
   ]
  },
  {
   "cell_type": "code",
   "execution_count": 41,
   "id": "2ec55b73",
   "metadata": {
    "tags": []
   },
   "outputs": [
    {
     "data": {
      "text/html": [
       "<div>\n",
       "<style scoped>\n",
       "    .dataframe tbody tr th:only-of-type {\n",
       "        vertical-align: middle;\n",
       "    }\n",
       "\n",
       "    .dataframe tbody tr th {\n",
       "        vertical-align: top;\n",
       "    }\n",
       "\n",
       "    .dataframe thead th {\n",
       "        text-align: right;\n",
       "    }\n",
       "</style>\n",
       "<table border=\"1\" class=\"dataframe\">\n",
       "  <thead>\n",
       "    <tr style=\"text-align: right;\">\n",
       "      <th></th>\n",
       "      <th>user_id</th>\n",
       "      <th>sequence_number</th>\n",
       "      <th>event_type</th>\n",
       "      <th>age</th>\n",
       "      <th>gender</th>\n",
       "      <th>country</th>\n",
       "      <th>traffic_source</th>\n",
       "      <th>segmento</th>\n",
       "    </tr>\n",
       "  </thead>\n",
       "  <tbody>\n",
       "    <tr>\n",
       "      <th>0</th>\n",
       "      <td>457</td>\n",
       "      <td>3.0</td>\n",
       "      <td>product</td>\n",
       "      <td>65</td>\n",
       "      <td>M</td>\n",
       "      <td>Brasil</td>\n",
       "      <td>Search</td>\n",
       "      <td>0</td>\n",
       "    </tr>\n",
       "    <tr>\n",
       "      <th>1</th>\n",
       "      <td>457</td>\n",
       "      <td>5.0</td>\n",
       "      <td>purchase</td>\n",
       "      <td>65</td>\n",
       "      <td>M</td>\n",
       "      <td>Brasil</td>\n",
       "      <td>Search</td>\n",
       "      <td>0</td>\n",
       "    </tr>\n",
       "    <tr>\n",
       "      <th>2</th>\n",
       "      <td>457</td>\n",
       "      <td>4.0</td>\n",
       "      <td>cart</td>\n",
       "      <td>65</td>\n",
       "      <td>M</td>\n",
       "      <td>Brasil</td>\n",
       "      <td>Search</td>\n",
       "      <td>0</td>\n",
       "    </tr>\n",
       "    <tr>\n",
       "      <th>3</th>\n",
       "      <td>457</td>\n",
       "      <td>1.0</td>\n",
       "      <td>home</td>\n",
       "      <td>65</td>\n",
       "      <td>M</td>\n",
       "      <td>Brasil</td>\n",
       "      <td>Search</td>\n",
       "      <td>0</td>\n",
       "    </tr>\n",
       "    <tr>\n",
       "      <th>4</th>\n",
       "      <td>457</td>\n",
       "      <td>2.0</td>\n",
       "      <td>department</td>\n",
       "      <td>65</td>\n",
       "      <td>M</td>\n",
       "      <td>Brasil</td>\n",
       "      <td>Search</td>\n",
       "      <td>0</td>\n",
       "    </tr>\n",
       "  </tbody>\n",
       "</table>\n",
       "</div>"
      ],
      "text/plain": [
       "   user_id  sequence_number  event_type  age gender country traffic_source  \\\n",
       "0      457              3.0     product   65      M  Brasil         Search   \n",
       "1      457              5.0    purchase   65      M  Brasil         Search   \n",
       "2      457              4.0        cart   65      M  Brasil         Search   \n",
       "3      457              1.0        home   65      M  Brasil         Search   \n",
       "4      457              2.0  department   65      M  Brasil         Search   \n",
       "\n",
       "   segmento  \n",
       "0         0  \n",
       "1         0  \n",
       "2         0  \n",
       "3         0  \n",
       "4         0  "
      ]
     },
     "metadata": {},
     "output_type": "display_data"
    }
   ],
   "source": [
    "display(clientes_df.head(5))"
   ]
  },
  {
   "cell_type": "code",
   "execution_count": 42,
   "id": "0e0c953a",
   "metadata": {
    "tags": []
   },
   "outputs": [],
   "source": [
    "#extraemos de la tabla todas las columnas a excepción del user_id y el segmento\n",
    "clientes_df.drop(['sequence_number', 'event_type', 'age', 'gender', 'country',\n",
    "       'traffic_source'], axis=1, inplace=True)"
   ]
  },
  {
   "cell_type": "code",
   "execution_count": 43,
   "id": "b52a26ac",
   "metadata": {
    "tags": []
   },
   "outputs": [
    {
     "data": {
      "text/html": [
       "<div>\n",
       "<style scoped>\n",
       "    .dataframe tbody tr th:only-of-type {\n",
       "        vertical-align: middle;\n",
       "    }\n",
       "\n",
       "    .dataframe tbody tr th {\n",
       "        vertical-align: top;\n",
       "    }\n",
       "\n",
       "    .dataframe thead th {\n",
       "        text-align: right;\n",
       "    }\n",
       "</style>\n",
       "<table border=\"1\" class=\"dataframe\">\n",
       "  <thead>\n",
       "    <tr style=\"text-align: right;\">\n",
       "      <th></th>\n",
       "      <th>user_id</th>\n",
       "      <th>segmento</th>\n",
       "    </tr>\n",
       "  </thead>\n",
       "  <tbody>\n",
       "    <tr>\n",
       "      <th>0</th>\n",
       "      <td>457</td>\n",
       "      <td>0</td>\n",
       "    </tr>\n",
       "    <tr>\n",
       "      <th>1</th>\n",
       "      <td>457</td>\n",
       "      <td>0</td>\n",
       "    </tr>\n",
       "    <tr>\n",
       "      <th>2</th>\n",
       "      <td>457</td>\n",
       "      <td>0</td>\n",
       "    </tr>\n",
       "    <tr>\n",
       "      <th>3</th>\n",
       "      <td>457</td>\n",
       "      <td>0</td>\n",
       "    </tr>\n",
       "    <tr>\n",
       "      <th>4</th>\n",
       "      <td>457</td>\n",
       "      <td>0</td>\n",
       "    </tr>\n",
       "  </tbody>\n",
       "</table>\n",
       "</div>"
      ],
      "text/plain": [
       "   user_id  segmento\n",
       "0      457         0\n",
       "1      457         0\n",
       "2      457         0\n",
       "3      457         0\n",
       "4      457         0"
      ]
     },
     "metadata": {},
     "output_type": "display_data"
    }
   ],
   "source": [
    "display(clientes_df.head(5))"
   ]
  },
  {
   "cell_type": "code",
   "execution_count": 44,
   "id": "7b787db4",
   "metadata": {
    "tags": []
   },
   "outputs": [
    {
     "data": {
      "text/plain": [
       "<bound method DataFrame.info of          user_id  segmento\n",
       "0            457         0\n",
       "1            457         0\n",
       "2            457         0\n",
       "3            457         0\n",
       "4            457         0\n",
       "...          ...       ...\n",
       "1326243    77764         1\n",
       "1326244    77764         1\n",
       "1326245    77764         1\n",
       "1326246    77764         1\n",
       "1326247    77764         1\n",
       "\n",
       "[1326248 rows x 2 columns]>"
      ]
     },
     "execution_count": 44,
     "metadata": {},
     "output_type": "execute_result"
    }
   ],
   "source": [
    "clientes_df.info"
   ]
  },
  {
   "cell_type": "code",
   "execution_count": 45,
   "id": "df0fd5ee",
   "metadata": {
    "tags": []
   },
   "outputs": [],
   "source": [
    "clientes_df.to_csv('clientes_clusterizado3.csv', sep=';', index=False)"
   ]
  },
  {
   "cell_type": "code",
   "execution_count": null,
   "id": "a7cfa368-1ee0-4f65-bcad-3a37c81d041b",
   "metadata": {},
   "outputs": [],
   "source": []
  }
 ],
 "metadata": {
  "kernelspec": {
   "display_name": "Python 3 (ipykernel)",
   "language": "python",
   "name": "python3"
  },
  "language_info": {
   "codemirror_mode": {
    "name": "ipython",
    "version": 3
   },
   "file_extension": ".py",
   "mimetype": "text/x-python",
   "name": "python",
   "nbconvert_exporter": "python",
   "pygments_lexer": "ipython3",
   "version": "3.11.4"
  }
 },
 "nbformat": 4,
 "nbformat_minor": 5
}
